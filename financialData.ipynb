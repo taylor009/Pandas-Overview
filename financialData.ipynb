{
 "cells": [
  {
   "cell_type": "code",
   "execution_count": 1,
   "outputs": [
    {
     "name": "stdout",
     "output_type": "stream",
     "text": [
      "Collecting yfinance\r\n",
      "  Downloading yfinance-0.2.33-py2.py3-none-any.whl.metadata (11 kB)\r\n",
      "Collecting pandas>=1.3.0 (from yfinance)\r\n",
      "  Downloading pandas-2.1.4-cp311-cp311-manylinux_2_17_x86_64.manylinux2014_x86_64.whl.metadata (18 kB)\r\n",
      "Collecting numpy>=1.16.5 (from yfinance)\r\n",
      "  Downloading numpy-1.26.2-cp311-cp311-manylinux_2_17_x86_64.manylinux2014_x86_64.whl.metadata (61 kB)\r\n",
      "\u001B[2K     \u001B[90m━━━━━━━━━━━━━━━━━━━━━━━━━━━━━━━━━━━━━━━━\u001B[0m \u001B[32m61.2/61.2 kB\u001B[0m \u001B[31m1.9 MB/s\u001B[0m eta \u001B[36m0:00:00\u001B[0m\r\n",
      "\u001B[?25hRequirement already satisfied: requests>=2.31 in ./venv/lib/python3.11/site-packages (from yfinance) (2.31.0)\r\n",
      "Collecting multitasking>=0.0.7 (from yfinance)\r\n",
      "  Downloading multitasking-0.0.11-py3-none-any.whl (8.5 kB)\r\n",
      "Collecting lxml>=4.9.1 (from yfinance)\r\n",
      "  Downloading lxml-4.9.3-cp311-cp311-manylinux_2_28_x86_64.whl.metadata (3.8 kB)\r\n",
      "Collecting appdirs>=1.4.4 (from yfinance)\r\n",
      "  Downloading appdirs-1.4.4-py2.py3-none-any.whl (9.6 kB)\r\n",
      "Collecting pytz>=2022.5 (from yfinance)\r\n",
      "  Downloading pytz-2023.3.post1-py2.py3-none-any.whl.metadata (22 kB)\r\n",
      "Collecting frozendict>=2.3.4 (from yfinance)\r\n",
      "  Downloading frozendict-2.3.10-py3-none-any.whl.metadata (20 kB)\r\n",
      "Collecting peewee>=3.16.2 (from yfinance)\r\n",
      "  Downloading peewee-3.17.0.tar.gz (2.9 MB)\r\n",
      "\u001B[2K     \u001B[90m━━━━━━━━━━━━━━━━━━━━━━━━━━━━━━━━━━━━━━━━\u001B[0m \u001B[32m2.9/2.9 MB\u001B[0m \u001B[31m46.2 MB/s\u001B[0m eta \u001B[36m0:00:00\u001B[0ma \u001B[36m0:00:01\u001B[0m\r\n",
      "\u001B[?25h  Installing build dependencies ... \u001B[?25ldone\r\n",
      "\u001B[?25h  Getting requirements to build wheel ... \u001B[?25ldone\r\n",
      "\u001B[?25h  Preparing metadata (pyproject.toml) ... \u001B[?25ldone\r\n",
      "\u001B[?25hRequirement already satisfied: beautifulsoup4>=4.11.1 in ./venv/lib/python3.11/site-packages (from yfinance) (4.12.2)\r\n",
      "Collecting html5lib>=1.1 (from yfinance)\r\n",
      "  Downloading html5lib-1.1-py2.py3-none-any.whl (112 kB)\r\n",
      "\u001B[2K     \u001B[90m━━━━━━━━━━━━━━━━━━━━━━━━━━━━━━━━━━━━━━━\u001B[0m \u001B[32m112.2/112.2 kB\u001B[0m \u001B[31m4.9 MB/s\u001B[0m eta \u001B[36m0:00:00\u001B[0m\r\n",
      "\u001B[?25hRequirement already satisfied: soupsieve>1.2 in ./venv/lib/python3.11/site-packages (from beautifulsoup4>=4.11.1->yfinance) (2.5)\r\n",
      "Requirement already satisfied: six>=1.9 in ./venv/lib/python3.11/site-packages (from html5lib>=1.1->yfinance) (1.16.0)\r\n",
      "Requirement already satisfied: webencodings in ./venv/lib/python3.11/site-packages (from html5lib>=1.1->yfinance) (0.5.1)\r\n",
      "Requirement already satisfied: python-dateutil>=2.8.2 in ./venv/lib/python3.11/site-packages (from pandas>=1.3.0->yfinance) (2.8.2)\r\n",
      "Collecting tzdata>=2022.1 (from pandas>=1.3.0->yfinance)\r\n",
      "  Downloading tzdata-2023.3-py2.py3-none-any.whl (341 kB)\r\n",
      "\u001B[2K     \u001B[90m━━━━━━━━━━━━━━━━━━━━━━━━━━━━━━━━━━━━━━\u001B[0m \u001B[32m341.8/341.8 kB\u001B[0m \u001B[31m16.0 MB/s\u001B[0m eta \u001B[36m0:00:00\u001B[0m\r\n",
      "\u001B[?25hRequirement already satisfied: charset-normalizer<4,>=2 in ./venv/lib/python3.11/site-packages (from requests>=2.31->yfinance) (3.3.2)\r\n",
      "Requirement already satisfied: idna<4,>=2.5 in ./venv/lib/python3.11/site-packages (from requests>=2.31->yfinance) (3.6)\r\n",
      "Requirement already satisfied: urllib3<3,>=1.21.1 in ./venv/lib/python3.11/site-packages (from requests>=2.31->yfinance) (2.1.0)\r\n",
      "Requirement already satisfied: certifi>=2017.4.17 in ./venv/lib/python3.11/site-packages (from requests>=2.31->yfinance) (2023.11.17)\r\n",
      "Downloading yfinance-0.2.33-py2.py3-none-any.whl (69 kB)\r\n",
      "\u001B[2K   \u001B[90m━━━━━━━━━━━━━━━━━━━━━━━━━━━━━━━━━━━━━━━━\u001B[0m \u001B[32m69.0/69.0 kB\u001B[0m \u001B[31m3.1 MB/s\u001B[0m eta \u001B[36m0:00:00\u001B[0m\r\n",
      "\u001B[?25hDownloading frozendict-2.3.10-py3-none-any.whl (14 kB)\r\n",
      "Downloading lxml-4.9.3-cp311-cp311-manylinux_2_28_x86_64.whl (7.9 MB)\r\n",
      "\u001B[2K   \u001B[90m━━━━━━━━━━━━━━━━━━━━━━━━━━━━━━━━━━━━━━━━\u001B[0m \u001B[32m7.9/7.9 MB\u001B[0m \u001B[31m116.9 MB/s\u001B[0m eta \u001B[36m0:00:00\u001B[0ma \u001B[36m0:00:01\u001B[0m\r\n",
      "\u001B[?25hDownloading numpy-1.26.2-cp311-cp311-manylinux_2_17_x86_64.manylinux2014_x86_64.whl (18.2 MB)\r\n",
      "\u001B[2K   \u001B[90m━━━━━━━━━━━━━━━━━━━━━━━━━━━━━━━━━━━━━━━━\u001B[0m \u001B[32m18.2/18.2 MB\u001B[0m \u001B[31m110.2 MB/s\u001B[0m eta \u001B[36m0:00:00\u001B[0m00:01\u001B[0m00:01\u001B[0m\r\n",
      "\u001B[?25hDownloading pandas-2.1.4-cp311-cp311-manylinux_2_17_x86_64.manylinux2014_x86_64.whl (12.2 MB)\r\n",
      "\u001B[2K   \u001B[90m━━━━━━━━━━━━━━━━━━━━━━━━━━━━━━━━━━━━━━━━\u001B[0m \u001B[32m12.2/12.2 MB\u001B[0m \u001B[31m127.7 MB/s\u001B[0m eta \u001B[36m0:00:00\u001B[0m00:01\u001B[0m0:01\u001B[0m\r\n",
      "\u001B[?25hDownloading pytz-2023.3.post1-py2.py3-none-any.whl (502 kB)\r\n",
      "\u001B[2K   \u001B[90m━━━━━━━━━━━━━━━━━━━━━━━━━━━━━━━━━━━━━━━━\u001B[0m \u001B[32m502.5/502.5 kB\u001B[0m \u001B[31m20.6 MB/s\u001B[0m eta \u001B[36m0:00:00\u001B[0m\r\n",
      "\u001B[?25hBuilding wheels for collected packages: peewee\r\n",
      "  Building wheel for peewee (pyproject.toml) ... \u001B[?25ldone\r\n",
      "\u001B[?25h  Created wheel for peewee: filename=peewee-3.17.0-py3-none-any.whl size=135721 sha256=2074047505110b293625d33ae8d8c1d239c954b06aba9f15d8f4ec584b76a0ac\r\n",
      "  Stored in directory: /home/taylor/.cache/pip/wheels/02/20/23/74a10d0cd31f5d41c19b92ddf4c138ceff01b9f4675f19dbf5\r\n",
      "Successfully built peewee\r\n",
      "Installing collected packages: pytz, peewee, multitasking, appdirs, tzdata, numpy, lxml, html5lib, frozendict, pandas, yfinance\r\n",
      "Successfully installed appdirs-1.4.4 frozendict-2.3.10 html5lib-1.1 lxml-4.9.3 multitasking-0.0.11 numpy-1.26.2 pandas-2.1.4 peewee-3.17.0 pytz-2023.3.post1 tzdata-2023.3 yfinance-0.2.33\r\n",
      "Note: you may need to restart the kernel to use updated packages.\n"
     ]
    }
   ],
   "source": [
    "pip install yfinance"
   ],
   "metadata": {
    "collapsed": false,
    "ExecuteTime": {
     "end_time": "2023-12-13T17:14:25.082897300Z",
     "start_time": "2023-12-13T17:14:13.139452590Z"
    }
   },
   "id": "5f46abfb32f67525"
  },
  {
   "cell_type": "code",
   "execution_count": 5,
   "outputs": [],
   "source": [
    "import yfinance as yf\n",
    "import pandas as pd"
   ],
   "metadata": {
    "collapsed": false,
    "ExecuteTime": {
     "end_time": "2023-12-13T17:16:46.737451200Z",
     "start_time": "2023-12-13T17:16:46.285524699Z"
    }
   },
   "id": "4a0ca30ca66279a"
  },
  {
   "cell_type": "code",
   "execution_count": 6,
   "outputs": [],
   "source": [
    "start = \"2014-10-01\"\n",
    "end = \"2021-05-31\""
   ],
   "metadata": {
    "collapsed": false,
    "ExecuteTime": {
     "end_time": "2023-12-13T17:16:52.506659242Z",
     "start_time": "2023-12-13T17:16:52.484183408Z"
    }
   },
   "id": "ce9c4e93ce36ced4"
  },
  {
   "cell_type": "code",
   "execution_count": 7,
   "outputs": [],
   "source": [
    "symbol = \"BA\""
   ],
   "metadata": {
    "collapsed": false,
    "ExecuteTime": {
     "end_time": "2023-12-13T17:16:53.480978887Z",
     "start_time": "2023-12-13T17:16:53.471100829Z"
    }
   },
   "id": "2a94639b19ec74ed"
  },
  {
   "cell_type": "code",
   "execution_count": 8,
   "outputs": [
    {
     "name": "stdout",
     "output_type": "stream",
     "text": [
      "[*********************100%%**********************]  1 of 1 completed\n"
     ]
    },
    {
     "data": {
      "text/plain": "                  Open        High         Low       Close   Adj Close  \\\nDate                                                                     \n2014-10-01  127.370003  127.370003  124.309998  124.669998  108.406677   \n2014-10-02  124.400002  125.550003  123.839996  124.169998  107.971893   \n2014-10-03  124.660004  126.870003  124.660004  126.360001  109.876213   \n2014-10-06  127.089996  127.190002  125.379997  126.260002  109.789268   \n2014-10-07  125.519997  125.519997  123.290001  123.320000  107.232780   \n...                ...         ...         ...         ...         ...   \n2021-05-24  235.139999  238.500000  232.600006  237.440002  237.440002   \n2021-05-25  240.000000  243.779999  239.229996  240.740005  240.740005   \n2021-05-26  241.699997  242.490005  239.869995  241.369995  241.369995   \n2021-05-27  248.110001  252.600006  247.190002  250.699997  250.699997   \n2021-05-28  247.479996  248.979996  245.369995  247.020004  247.020004   \n\n              Volume  \nDate                  \n2014-10-01   5265200  \n2014-10-02   3204500  \n2014-10-03   3075900  \n2014-10-06   2681000  \n2014-10-07   3554900  \n...              ...  \n2021-05-24  10106000  \n2021-05-25  12908000  \n2021-05-26   7240200  \n2021-05-27  18404400  \n2021-05-28  11197400  \n\n[1677 rows x 6 columns]",
      "text/html": "<div>\n<style scoped>\n    .dataframe tbody tr th:only-of-type {\n        vertical-align: middle;\n    }\n\n    .dataframe tbody tr th {\n        vertical-align: top;\n    }\n\n    .dataframe thead th {\n        text-align: right;\n    }\n</style>\n<table border=\"1\" class=\"dataframe\">\n  <thead>\n    <tr style=\"text-align: right;\">\n      <th></th>\n      <th>Open</th>\n      <th>High</th>\n      <th>Low</th>\n      <th>Close</th>\n      <th>Adj Close</th>\n      <th>Volume</th>\n    </tr>\n    <tr>\n      <th>Date</th>\n      <th></th>\n      <th></th>\n      <th></th>\n      <th></th>\n      <th></th>\n      <th></th>\n    </tr>\n  </thead>\n  <tbody>\n    <tr>\n      <th>2014-10-01</th>\n      <td>127.370003</td>\n      <td>127.370003</td>\n      <td>124.309998</td>\n      <td>124.669998</td>\n      <td>108.406677</td>\n      <td>5265200</td>\n    </tr>\n    <tr>\n      <th>2014-10-02</th>\n      <td>124.400002</td>\n      <td>125.550003</td>\n      <td>123.839996</td>\n      <td>124.169998</td>\n      <td>107.971893</td>\n      <td>3204500</td>\n    </tr>\n    <tr>\n      <th>2014-10-03</th>\n      <td>124.660004</td>\n      <td>126.870003</td>\n      <td>124.660004</td>\n      <td>126.360001</td>\n      <td>109.876213</td>\n      <td>3075900</td>\n    </tr>\n    <tr>\n      <th>2014-10-06</th>\n      <td>127.089996</td>\n      <td>127.190002</td>\n      <td>125.379997</td>\n      <td>126.260002</td>\n      <td>109.789268</td>\n      <td>2681000</td>\n    </tr>\n    <tr>\n      <th>2014-10-07</th>\n      <td>125.519997</td>\n      <td>125.519997</td>\n      <td>123.290001</td>\n      <td>123.320000</td>\n      <td>107.232780</td>\n      <td>3554900</td>\n    </tr>\n    <tr>\n      <th>...</th>\n      <td>...</td>\n      <td>...</td>\n      <td>...</td>\n      <td>...</td>\n      <td>...</td>\n      <td>...</td>\n    </tr>\n    <tr>\n      <th>2021-05-24</th>\n      <td>235.139999</td>\n      <td>238.500000</td>\n      <td>232.600006</td>\n      <td>237.440002</td>\n      <td>237.440002</td>\n      <td>10106000</td>\n    </tr>\n    <tr>\n      <th>2021-05-25</th>\n      <td>240.000000</td>\n      <td>243.779999</td>\n      <td>239.229996</td>\n      <td>240.740005</td>\n      <td>240.740005</td>\n      <td>12908000</td>\n    </tr>\n    <tr>\n      <th>2021-05-26</th>\n      <td>241.699997</td>\n      <td>242.490005</td>\n      <td>239.869995</td>\n      <td>241.369995</td>\n      <td>241.369995</td>\n      <td>7240200</td>\n    </tr>\n    <tr>\n      <th>2021-05-27</th>\n      <td>248.110001</td>\n      <td>252.600006</td>\n      <td>247.190002</td>\n      <td>250.699997</td>\n      <td>250.699997</td>\n      <td>18404400</td>\n    </tr>\n    <tr>\n      <th>2021-05-28</th>\n      <td>247.479996</td>\n      <td>248.979996</td>\n      <td>245.369995</td>\n      <td>247.020004</td>\n      <td>247.020004</td>\n      <td>11197400</td>\n    </tr>\n  </tbody>\n</table>\n<p>1677 rows × 6 columns</p>\n</div>"
     },
     "execution_count": 8,
     "metadata": {},
     "output_type": "execute_result"
    }
   ],
   "source": [
    "yf.download(symbol, start, end)"
   ],
   "metadata": {
    "collapsed": false,
    "ExecuteTime": {
     "end_time": "2023-12-13T17:17:12.068626545Z",
     "start_time": "2023-12-13T17:16:54.805175467Z"
    }
   },
   "id": "7cbae2964f025d10"
  },
  {
   "cell_type": "code",
   "execution_count": 9,
   "outputs": [
    {
     "name": "stdout",
     "output_type": "stream",
     "text": [
      "[*********************100%%**********************]  1 of 1 completed\n"
     ]
    },
    {
     "data": {
      "text/plain": "                  Open        High         Low       Close   Adj Close  \\\nDate                                                                     \n2014-10-01  127.370003  127.370003  124.309998  124.669998  108.406677   \n2014-10-02  124.400002  125.550003  123.839996  124.169998  107.971893   \n2014-10-03  124.660004  126.870003  124.660004  126.360001  109.876213   \n2014-10-06  127.089996  127.190002  125.379997  126.260002  109.789268   \n2014-10-07  125.519997  125.519997  123.290001  123.320000  107.232780   \n...                ...         ...         ...         ...         ...   \n2021-05-24  235.139999  238.500000  232.600006  237.440002  237.440002   \n2021-05-25  240.000000  243.779999  239.229996  240.740005  240.740005   \n2021-05-26  241.699997  242.490005  239.869995  241.369995  241.369995   \n2021-05-27  248.110001  252.600006  247.190002  250.699997  250.699997   \n2021-05-28  247.479996  248.979996  245.369995  247.020004  247.020004   \n\n              Volume  \nDate                  \n2014-10-01   5265200  \n2014-10-02   3204500  \n2014-10-03   3075900  \n2014-10-06   2681000  \n2014-10-07   3554900  \n...              ...  \n2021-05-24  10106000  \n2021-05-25  12908000  \n2021-05-26   7240200  \n2021-05-27  18404400  \n2021-05-28  11197400  \n\n[1677 rows x 6 columns]",
      "text/html": "<div>\n<style scoped>\n    .dataframe tbody tr th:only-of-type {\n        vertical-align: middle;\n    }\n\n    .dataframe tbody tr th {\n        vertical-align: top;\n    }\n\n    .dataframe thead th {\n        text-align: right;\n    }\n</style>\n<table border=\"1\" class=\"dataframe\">\n  <thead>\n    <tr style=\"text-align: right;\">\n      <th></th>\n      <th>Open</th>\n      <th>High</th>\n      <th>Low</th>\n      <th>Close</th>\n      <th>Adj Close</th>\n      <th>Volume</th>\n    </tr>\n    <tr>\n      <th>Date</th>\n      <th></th>\n      <th></th>\n      <th></th>\n      <th></th>\n      <th></th>\n      <th></th>\n    </tr>\n  </thead>\n  <tbody>\n    <tr>\n      <th>2014-10-01</th>\n      <td>127.370003</td>\n      <td>127.370003</td>\n      <td>124.309998</td>\n      <td>124.669998</td>\n      <td>108.406677</td>\n      <td>5265200</td>\n    </tr>\n    <tr>\n      <th>2014-10-02</th>\n      <td>124.400002</td>\n      <td>125.550003</td>\n      <td>123.839996</td>\n      <td>124.169998</td>\n      <td>107.971893</td>\n      <td>3204500</td>\n    </tr>\n    <tr>\n      <th>2014-10-03</th>\n      <td>124.660004</td>\n      <td>126.870003</td>\n      <td>124.660004</td>\n      <td>126.360001</td>\n      <td>109.876213</td>\n      <td>3075900</td>\n    </tr>\n    <tr>\n      <th>2014-10-06</th>\n      <td>127.089996</td>\n      <td>127.190002</td>\n      <td>125.379997</td>\n      <td>126.260002</td>\n      <td>109.789268</td>\n      <td>2681000</td>\n    </tr>\n    <tr>\n      <th>2014-10-07</th>\n      <td>125.519997</td>\n      <td>125.519997</td>\n      <td>123.290001</td>\n      <td>123.320000</td>\n      <td>107.232780</td>\n      <td>3554900</td>\n    </tr>\n    <tr>\n      <th>...</th>\n      <td>...</td>\n      <td>...</td>\n      <td>...</td>\n      <td>...</td>\n      <td>...</td>\n      <td>...</td>\n    </tr>\n    <tr>\n      <th>2021-05-24</th>\n      <td>235.139999</td>\n      <td>238.500000</td>\n      <td>232.600006</td>\n      <td>237.440002</td>\n      <td>237.440002</td>\n      <td>10106000</td>\n    </tr>\n    <tr>\n      <th>2021-05-25</th>\n      <td>240.000000</td>\n      <td>243.779999</td>\n      <td>239.229996</td>\n      <td>240.740005</td>\n      <td>240.740005</td>\n      <td>12908000</td>\n    </tr>\n    <tr>\n      <th>2021-05-26</th>\n      <td>241.699997</td>\n      <td>242.490005</td>\n      <td>239.869995</td>\n      <td>241.369995</td>\n      <td>241.369995</td>\n      <td>7240200</td>\n    </tr>\n    <tr>\n      <th>2021-05-27</th>\n      <td>248.110001</td>\n      <td>252.600006</td>\n      <td>247.190002</td>\n      <td>250.699997</td>\n      <td>250.699997</td>\n      <td>18404400</td>\n    </tr>\n    <tr>\n      <th>2021-05-28</th>\n      <td>247.479996</td>\n      <td>248.979996</td>\n      <td>245.369995</td>\n      <td>247.020004</td>\n      <td>247.020004</td>\n      <td>11197400</td>\n    </tr>\n  </tbody>\n</table>\n<p>1677 rows × 6 columns</p>\n</div>"
     },
     "execution_count": 9,
     "metadata": {},
     "output_type": "execute_result"
    }
   ],
   "source": [
    "df = yf.download(symbol, start, end)\n",
    "df"
   ],
   "metadata": {
    "collapsed": false,
    "ExecuteTime": {
     "end_time": "2023-12-13T17:17:21.244890265Z",
     "start_time": "2023-12-13T17:17:21.183388416Z"
    }
   },
   "id": "58b3a41b356a93e0"
  },
  {
   "cell_type": "code",
   "execution_count": 10,
   "outputs": [
    {
     "name": "stdout",
     "output_type": "stream",
     "text": [
      "<class 'pandas.core.frame.DataFrame'>\n",
      "DatetimeIndex: 1677 entries, 2014-10-01 to 2021-05-28\n",
      "Data columns (total 6 columns):\n",
      " #   Column     Non-Null Count  Dtype  \n",
      "---  ------     --------------  -----  \n",
      " 0   Open       1677 non-null   float64\n",
      " 1   High       1677 non-null   float64\n",
      " 2   Low        1677 non-null   float64\n",
      " 3   Close      1677 non-null   float64\n",
      " 4   Adj Close  1677 non-null   float64\n",
      " 5   Volume     1677 non-null   int64  \n",
      "dtypes: float64(5), int64(1)\n",
      "memory usage: 91.7 KB\n"
     ]
    }
   ],
   "source": [
    "df.info()"
   ],
   "metadata": {
    "collapsed": false,
    "ExecuteTime": {
     "end_time": "2023-12-13T17:17:29.143567614Z",
     "start_time": "2023-12-13T17:17:29.121356668Z"
    }
   },
   "id": "503de0335a58a99"
  },
  {
   "cell_type": "code",
   "execution_count": 12,
   "outputs": [],
   "source": [
    "symbol = [\"BA\", \"MSFT\", \"^DJI\", \"EURUSD=X\", \"GC=F\", \"BTC-USD\"]"
   ],
   "metadata": {
    "collapsed": false,
    "ExecuteTime": {
     "end_time": "2023-12-13T17:22:44.704990921Z",
     "start_time": "2023-12-13T17:22:44.657787172Z"
    }
   },
   "id": "8dca991f6bd3ee9c"
  },
  {
   "cell_type": "code",
   "execution_count": 13,
   "outputs": [
    {
     "name": "stdout",
     "output_type": "stream",
     "text": [
      "[*********************100%%**********************]  6 of 6 completed\n"
     ]
    },
    {
     "data": {
      "text/plain": "             Adj Close                                                   \\\n                    BA       BTC-USD  EURUSD=X         GC=F        MSFT   \nDate                                                                      \n2014-10-01  108.406677    383.614990  1.262834  1214.599976   39.459862   \n2014-10-02  107.971893    375.071991  1.262419  1214.199951   39.339493   \n2014-10-03  109.876213    359.511993  1.267058  1192.199951   39.623203   \n2014-10-04         NaN    328.865997       NaN          NaN         NaN   \n2014-10-05         NaN    320.510010       NaN          NaN         NaN   \n...                ...           ...       ...          ...         ...   \n2021-05-26  241.369995  39294.199219  1.224909  1901.300049  246.043533   \n2021-05-27  250.699997  38436.968750  1.219260  1895.699951  243.910721   \n2021-05-28  247.020004  35697.605469  1.219319  1902.500000  244.272736   \n2021-05-29         NaN  34616.066406       NaN          NaN         NaN   \n2021-05-30         NaN  35678.128906       NaN          NaN         NaN   \n\n                               Close                                       \\\n                    ^DJI          BA       BTC-USD  EURUSD=X         GC=F   \nDate                                                                        \n2014-10-01  16804.710938  124.669998    383.614990  1.262834  1214.599976   \n2014-10-02  16801.050781  124.169998    375.071991  1.262419  1214.199951   \n2014-10-03  17009.689453  126.360001    359.511993  1.267058  1192.199951   \n2014-10-04           NaN         NaN    328.865997       NaN          NaN   \n2014-10-05           NaN         NaN    320.510010       NaN          NaN   \n...                  ...         ...           ...       ...          ...   \n2021-05-26  34323.050781  241.369995  39294.199219  1.224909  1901.300049   \n2021-05-27  34464.640625  250.699997  38436.968750  1.219260  1895.699951   \n2021-05-28  34529.449219  247.020004  35697.605469  1.219319  1902.500000   \n2021-05-29           NaN         NaN  34616.066406       NaN          NaN   \n2021-05-30           NaN         NaN  35678.128906       NaN          NaN   \n\n            ...      Open                                             Volume  \\\n            ...  EURUSD=X         GC=F        MSFT          ^DJI          BA   \nDate        ...                                                                \n2014-10-01  ...  1.262913  1207.699951   46.270000  17040.460938   5265200.0   \n2014-10-02  ...  1.262499  1215.300049   45.830002  16808.269531   3204500.0   \n2014-10-03  ...  1.266994  1212.400024   45.980000  16802.199219   3075900.0   \n2014-10-04  ...       NaN          NaN         NaN           NaN         NaN   \n2014-10-05  ...       NaN          NaN         NaN           NaN         NaN   \n...         ...       ...          ...         ...           ...         ...   \n2021-05-26  ...  1.224890  1901.300049  251.429993  34336.339844   7240200.0   \n2021-05-27  ...  1.219036  1896.800049  251.169998  34432.468750  18404400.0   \n2021-05-28  ...  1.219274  1897.500000  251.000000  34558.500000  11197400.0   \n2021-05-29  ...       NaN          NaN         NaN           NaN         NaN   \n2021-05-30  ...       NaN          NaN         NaN           NaN         NaN   \n\n                                                                     \n                BTC-USD EURUSD=X      GC=F        MSFT         ^DJI  \nDate                                                                 \n2014-10-01     26229400      0.0     178.0  38088400.0  104240000.0  \n2014-10-02     21777700      0.0     176.0  25119400.0   75490000.0  \n2014-10-03     30901200      0.0     499.0  32453200.0   87940000.0  \n2014-10-04     47236500      NaN       NaN         NaN          NaN  \n2014-10-05     83308096      NaN       NaN         NaN          NaN  \n...                 ...      ...       ...         ...          ...  \n2021-05-26  51346735160      0.0  170526.0  17771600.0  258780000.0  \n2021-05-27  43210968721      0.0   35794.0  24426200.0  520630000.0  \n2021-05-28  55200191952      0.0    2415.0  18270200.0  290850000.0  \n2021-05-29  45231013335      NaN       NaN         NaN          NaN  \n2021-05-30  31646080921      NaN       NaN         NaN          NaN  \n\n[2434 rows x 36 columns]",
      "text/html": "<div>\n<style scoped>\n    .dataframe tbody tr th:only-of-type {\n        vertical-align: middle;\n    }\n\n    .dataframe tbody tr th {\n        vertical-align: top;\n    }\n\n    .dataframe thead tr th {\n        text-align: left;\n    }\n\n    .dataframe thead tr:last-of-type th {\n        text-align: right;\n    }\n</style>\n<table border=\"1\" class=\"dataframe\">\n  <thead>\n    <tr>\n      <th></th>\n      <th colspan=\"6\" halign=\"left\">Adj Close</th>\n      <th colspan=\"4\" halign=\"left\">Close</th>\n      <th>...</th>\n      <th colspan=\"4\" halign=\"left\">Open</th>\n      <th colspan=\"6\" halign=\"left\">Volume</th>\n    </tr>\n    <tr>\n      <th></th>\n      <th>BA</th>\n      <th>BTC-USD</th>\n      <th>EURUSD=X</th>\n      <th>GC=F</th>\n      <th>MSFT</th>\n      <th>^DJI</th>\n      <th>BA</th>\n      <th>BTC-USD</th>\n      <th>EURUSD=X</th>\n      <th>GC=F</th>\n      <th>...</th>\n      <th>EURUSD=X</th>\n      <th>GC=F</th>\n      <th>MSFT</th>\n      <th>^DJI</th>\n      <th>BA</th>\n      <th>BTC-USD</th>\n      <th>EURUSD=X</th>\n      <th>GC=F</th>\n      <th>MSFT</th>\n      <th>^DJI</th>\n    </tr>\n    <tr>\n      <th>Date</th>\n      <th></th>\n      <th></th>\n      <th></th>\n      <th></th>\n      <th></th>\n      <th></th>\n      <th></th>\n      <th></th>\n      <th></th>\n      <th></th>\n      <th></th>\n      <th></th>\n      <th></th>\n      <th></th>\n      <th></th>\n      <th></th>\n      <th></th>\n      <th></th>\n      <th></th>\n      <th></th>\n      <th></th>\n    </tr>\n  </thead>\n  <tbody>\n    <tr>\n      <th>2014-10-01</th>\n      <td>108.406677</td>\n      <td>383.614990</td>\n      <td>1.262834</td>\n      <td>1214.599976</td>\n      <td>39.459862</td>\n      <td>16804.710938</td>\n      <td>124.669998</td>\n      <td>383.614990</td>\n      <td>1.262834</td>\n      <td>1214.599976</td>\n      <td>...</td>\n      <td>1.262913</td>\n      <td>1207.699951</td>\n      <td>46.270000</td>\n      <td>17040.460938</td>\n      <td>5265200.0</td>\n      <td>26229400</td>\n      <td>0.0</td>\n      <td>178.0</td>\n      <td>38088400.0</td>\n      <td>104240000.0</td>\n    </tr>\n    <tr>\n      <th>2014-10-02</th>\n      <td>107.971893</td>\n      <td>375.071991</td>\n      <td>1.262419</td>\n      <td>1214.199951</td>\n      <td>39.339493</td>\n      <td>16801.050781</td>\n      <td>124.169998</td>\n      <td>375.071991</td>\n      <td>1.262419</td>\n      <td>1214.199951</td>\n      <td>...</td>\n      <td>1.262499</td>\n      <td>1215.300049</td>\n      <td>45.830002</td>\n      <td>16808.269531</td>\n      <td>3204500.0</td>\n      <td>21777700</td>\n      <td>0.0</td>\n      <td>176.0</td>\n      <td>25119400.0</td>\n      <td>75490000.0</td>\n    </tr>\n    <tr>\n      <th>2014-10-03</th>\n      <td>109.876213</td>\n      <td>359.511993</td>\n      <td>1.267058</td>\n      <td>1192.199951</td>\n      <td>39.623203</td>\n      <td>17009.689453</td>\n      <td>126.360001</td>\n      <td>359.511993</td>\n      <td>1.267058</td>\n      <td>1192.199951</td>\n      <td>...</td>\n      <td>1.266994</td>\n      <td>1212.400024</td>\n      <td>45.980000</td>\n      <td>16802.199219</td>\n      <td>3075900.0</td>\n      <td>30901200</td>\n      <td>0.0</td>\n      <td>499.0</td>\n      <td>32453200.0</td>\n      <td>87940000.0</td>\n    </tr>\n    <tr>\n      <th>2014-10-04</th>\n      <td>NaN</td>\n      <td>328.865997</td>\n      <td>NaN</td>\n      <td>NaN</td>\n      <td>NaN</td>\n      <td>NaN</td>\n      <td>NaN</td>\n      <td>328.865997</td>\n      <td>NaN</td>\n      <td>NaN</td>\n      <td>...</td>\n      <td>NaN</td>\n      <td>NaN</td>\n      <td>NaN</td>\n      <td>NaN</td>\n      <td>NaN</td>\n      <td>47236500</td>\n      <td>NaN</td>\n      <td>NaN</td>\n      <td>NaN</td>\n      <td>NaN</td>\n    </tr>\n    <tr>\n      <th>2014-10-05</th>\n      <td>NaN</td>\n      <td>320.510010</td>\n      <td>NaN</td>\n      <td>NaN</td>\n      <td>NaN</td>\n      <td>NaN</td>\n      <td>NaN</td>\n      <td>320.510010</td>\n      <td>NaN</td>\n      <td>NaN</td>\n      <td>...</td>\n      <td>NaN</td>\n      <td>NaN</td>\n      <td>NaN</td>\n      <td>NaN</td>\n      <td>NaN</td>\n      <td>83308096</td>\n      <td>NaN</td>\n      <td>NaN</td>\n      <td>NaN</td>\n      <td>NaN</td>\n    </tr>\n    <tr>\n      <th>...</th>\n      <td>...</td>\n      <td>...</td>\n      <td>...</td>\n      <td>...</td>\n      <td>...</td>\n      <td>...</td>\n      <td>...</td>\n      <td>...</td>\n      <td>...</td>\n      <td>...</td>\n      <td>...</td>\n      <td>...</td>\n      <td>...</td>\n      <td>...</td>\n      <td>...</td>\n      <td>...</td>\n      <td>...</td>\n      <td>...</td>\n      <td>...</td>\n      <td>...</td>\n      <td>...</td>\n    </tr>\n    <tr>\n      <th>2021-05-26</th>\n      <td>241.369995</td>\n      <td>39294.199219</td>\n      <td>1.224909</td>\n      <td>1901.300049</td>\n      <td>246.043533</td>\n      <td>34323.050781</td>\n      <td>241.369995</td>\n      <td>39294.199219</td>\n      <td>1.224909</td>\n      <td>1901.300049</td>\n      <td>...</td>\n      <td>1.224890</td>\n      <td>1901.300049</td>\n      <td>251.429993</td>\n      <td>34336.339844</td>\n      <td>7240200.0</td>\n      <td>51346735160</td>\n      <td>0.0</td>\n      <td>170526.0</td>\n      <td>17771600.0</td>\n      <td>258780000.0</td>\n    </tr>\n    <tr>\n      <th>2021-05-27</th>\n      <td>250.699997</td>\n      <td>38436.968750</td>\n      <td>1.219260</td>\n      <td>1895.699951</td>\n      <td>243.910721</td>\n      <td>34464.640625</td>\n      <td>250.699997</td>\n      <td>38436.968750</td>\n      <td>1.219260</td>\n      <td>1895.699951</td>\n      <td>...</td>\n      <td>1.219036</td>\n      <td>1896.800049</td>\n      <td>251.169998</td>\n      <td>34432.468750</td>\n      <td>18404400.0</td>\n      <td>43210968721</td>\n      <td>0.0</td>\n      <td>35794.0</td>\n      <td>24426200.0</td>\n      <td>520630000.0</td>\n    </tr>\n    <tr>\n      <th>2021-05-28</th>\n      <td>247.020004</td>\n      <td>35697.605469</td>\n      <td>1.219319</td>\n      <td>1902.500000</td>\n      <td>244.272736</td>\n      <td>34529.449219</td>\n      <td>247.020004</td>\n      <td>35697.605469</td>\n      <td>1.219319</td>\n      <td>1902.500000</td>\n      <td>...</td>\n      <td>1.219274</td>\n      <td>1897.500000</td>\n      <td>251.000000</td>\n      <td>34558.500000</td>\n      <td>11197400.0</td>\n      <td>55200191952</td>\n      <td>0.0</td>\n      <td>2415.0</td>\n      <td>18270200.0</td>\n      <td>290850000.0</td>\n    </tr>\n    <tr>\n      <th>2021-05-29</th>\n      <td>NaN</td>\n      <td>34616.066406</td>\n      <td>NaN</td>\n      <td>NaN</td>\n      <td>NaN</td>\n      <td>NaN</td>\n      <td>NaN</td>\n      <td>34616.066406</td>\n      <td>NaN</td>\n      <td>NaN</td>\n      <td>...</td>\n      <td>NaN</td>\n      <td>NaN</td>\n      <td>NaN</td>\n      <td>NaN</td>\n      <td>NaN</td>\n      <td>45231013335</td>\n      <td>NaN</td>\n      <td>NaN</td>\n      <td>NaN</td>\n      <td>NaN</td>\n    </tr>\n    <tr>\n      <th>2021-05-30</th>\n      <td>NaN</td>\n      <td>35678.128906</td>\n      <td>NaN</td>\n      <td>NaN</td>\n      <td>NaN</td>\n      <td>NaN</td>\n      <td>NaN</td>\n      <td>35678.128906</td>\n      <td>NaN</td>\n      <td>NaN</td>\n      <td>...</td>\n      <td>NaN</td>\n      <td>NaN</td>\n      <td>NaN</td>\n      <td>NaN</td>\n      <td>NaN</td>\n      <td>31646080921</td>\n      <td>NaN</td>\n      <td>NaN</td>\n      <td>NaN</td>\n      <td>NaN</td>\n    </tr>\n  </tbody>\n</table>\n<p>2434 rows × 36 columns</p>\n</div>"
     },
     "execution_count": 13,
     "metadata": {},
     "output_type": "execute_result"
    }
   ],
   "source": [
    "df = yf.download(symbol, start, end)\n",
    "df"
   ],
   "metadata": {
    "collapsed": false,
    "ExecuteTime": {
     "end_time": "2023-12-13T17:22:55.265974116Z",
     "start_time": "2023-12-13T17:22:54.678250990Z"
    }
   },
   "id": "d8e4875f6f1a6f22"
  },
  {
   "cell_type": "code",
   "execution_count": 14,
   "outputs": [
    {
     "name": "stdout",
     "output_type": "stream",
     "text": [
      "<class 'pandas.core.frame.DataFrame'>\n",
      "DatetimeIndex: 2434 entries, 2014-10-01 to 2021-05-30\n",
      "Freq: D\n",
      "Data columns (total 36 columns):\n",
      " #   Column                 Non-Null Count  Dtype  \n",
      "---  ------                 --------------  -----  \n",
      " 0   (Adj Close, BA)        1677 non-null   float64\n",
      " 1   (Adj Close, BTC-USD)   2434 non-null   float64\n",
      " 2   (Adj Close, EURUSD=X)  1735 non-null   float64\n",
      " 3   (Adj Close, GC=F)      1674 non-null   float64\n",
      " 4   (Adj Close, MSFT)      1677 non-null   float64\n",
      " 5   (Adj Close, ^DJI)      1677 non-null   float64\n",
      " 6   (Close, BA)            1677 non-null   float64\n",
      " 7   (Close, BTC-USD)       2434 non-null   float64\n",
      " 8   (Close, EURUSD=X)      1735 non-null   float64\n",
      " 9   (Close, GC=F)          1674 non-null   float64\n",
      " 10  (Close, MSFT)          1677 non-null   float64\n",
      " 11  (Close, ^DJI)          1677 non-null   float64\n",
      " 12  (High, BA)             1677 non-null   float64\n",
      " 13  (High, BTC-USD)        2434 non-null   float64\n",
      " 14  (High, EURUSD=X)       1735 non-null   float64\n",
      " 15  (High, GC=F)           1674 non-null   float64\n",
      " 16  (High, MSFT)           1677 non-null   float64\n",
      " 17  (High, ^DJI)           1677 non-null   float64\n",
      " 18  (Low, BA)              1677 non-null   float64\n",
      " 19  (Low, BTC-USD)         2434 non-null   float64\n",
      " 20  (Low, EURUSD=X)        1735 non-null   float64\n",
      " 21  (Low, GC=F)            1674 non-null   float64\n",
      " 22  (Low, MSFT)            1677 non-null   float64\n",
      " 23  (Low, ^DJI)            1677 non-null   float64\n",
      " 24  (Open, BA)             1677 non-null   float64\n",
      " 25  (Open, BTC-USD)        2434 non-null   float64\n",
      " 26  (Open, EURUSD=X)       1735 non-null   float64\n",
      " 27  (Open, GC=F)           1674 non-null   float64\n",
      " 28  (Open, MSFT)           1677 non-null   float64\n",
      " 29  (Open, ^DJI)           1677 non-null   float64\n",
      " 30  (Volume, BA)           1677 non-null   float64\n",
      " 31  (Volume, BTC-USD)      2434 non-null   int64  \n",
      " 32  (Volume, EURUSD=X)     1735 non-null   float64\n",
      " 33  (Volume, GC=F)         1674 non-null   float64\n",
      " 34  (Volume, MSFT)         1677 non-null   float64\n",
      " 35  (Volume, ^DJI)         1677 non-null   float64\n",
      "dtypes: float64(35), int64(1)\n",
      "memory usage: 703.6 KB\n"
     ]
    }
   ],
   "source": [
    "df.info()"
   ],
   "metadata": {
    "collapsed": false,
    "ExecuteTime": {
     "end_time": "2023-12-13T17:23:01.572437296Z",
     "start_time": "2023-12-13T17:23:01.524920791Z"
    }
   },
   "id": "7df06f5f41c20a70"
  },
  {
   "cell_type": "code",
   "execution_count": 15,
   "outputs": [],
   "source": [
    "df.to_csv(\"multi_assets.csv\")"
   ],
   "metadata": {
    "collapsed": false,
    "ExecuteTime": {
     "end_time": "2023-12-13T17:23:28.456355554Z",
     "start_time": "2023-12-13T17:23:28.341758783Z"
    }
   },
   "id": "7992ab12a63a1efc"
  },
  {
   "cell_type": "code",
   "execution_count": null,
   "outputs": [],
   "source": [],
   "metadata": {
    "collapsed": false
   },
   "id": "78aaa8a4466944de"
  }
 ],
 "metadata": {
  "kernelspec": {
   "display_name": "Python 3",
   "language": "python",
   "name": "python3"
  },
  "language_info": {
   "codemirror_mode": {
    "name": "ipython",
    "version": 2
   },
   "file_extension": ".py",
   "mimetype": "text/x-python",
   "name": "python",
   "nbconvert_exporter": "python",
   "pygments_lexer": "ipython2",
   "version": "2.7.6"
  }
 },
 "nbformat": 4,
 "nbformat_minor": 5
}
