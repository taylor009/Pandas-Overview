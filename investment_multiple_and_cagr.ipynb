{
 "cells": [
  {
   "cell_type": "code",
   "execution_count": 1,
   "id": "initial_id",
   "metadata": {
    "collapsed": true,
    "ExecuteTime": {
     "end_time": "2023-12-15T00:26:46.040287375Z",
     "start_time": "2023-12-15T00:26:45.902885821Z"
    }
   },
   "outputs": [],
   "source": [
    "import pandas as pd\n",
    "import numpy as np\n",
    "import matplotlib.pyplot as plt\n",
    "import seaborn as sns\n",
    "pd.set_option('display.float_format', '{:.4f}'.format)\n",
    "sns.set_style('whitegrid')"
   ]
  },
  {
   "cell_type": "code",
   "execution_count": 2,
   "outputs": [
    {
     "data": {
      "text/plain": "              Price  Returns\nDate                        \n2014-10-01  45.9000      NaN\n2014-10-02  45.7600  -0.0031\n2014-10-03  46.0900   0.0072\n2014-10-06  46.0900   0.0000\n2014-10-07  45.5300  -0.0122\n...             ...      ...\n2021-05-24 250.7800   0.0229\n2021-05-25 251.7200   0.0037\n2021-05-26 251.4900  -0.0009\n2021-05-27 249.3100  -0.0087\n2021-05-28 249.6800   0.0015\n\n[1677 rows x 2 columns]",
      "text/html": "<div>\n<style scoped>\n    .dataframe tbody tr th:only-of-type {\n        vertical-align: middle;\n    }\n\n    .dataframe tbody tr th {\n        vertical-align: top;\n    }\n\n    .dataframe thead th {\n        text-align: right;\n    }\n</style>\n<table border=\"1\" class=\"dataframe\">\n  <thead>\n    <tr style=\"text-align: right;\">\n      <th></th>\n      <th>Price</th>\n      <th>Returns</th>\n    </tr>\n    <tr>\n      <th>Date</th>\n      <th></th>\n      <th></th>\n    </tr>\n  </thead>\n  <tbody>\n    <tr>\n      <th>2014-10-01</th>\n      <td>45.9000</td>\n      <td>NaN</td>\n    </tr>\n    <tr>\n      <th>2014-10-02</th>\n      <td>45.7600</td>\n      <td>-0.0031</td>\n    </tr>\n    <tr>\n      <th>2014-10-03</th>\n      <td>46.0900</td>\n      <td>0.0072</td>\n    </tr>\n    <tr>\n      <th>2014-10-06</th>\n      <td>46.0900</td>\n      <td>0.0000</td>\n    </tr>\n    <tr>\n      <th>2014-10-07</th>\n      <td>45.5300</td>\n      <td>-0.0122</td>\n    </tr>\n    <tr>\n      <th>...</th>\n      <td>...</td>\n      <td>...</td>\n    </tr>\n    <tr>\n      <th>2021-05-24</th>\n      <td>250.7800</td>\n      <td>0.0229</td>\n    </tr>\n    <tr>\n      <th>2021-05-25</th>\n      <td>251.7200</td>\n      <td>0.0037</td>\n    </tr>\n    <tr>\n      <th>2021-05-26</th>\n      <td>251.4900</td>\n      <td>-0.0009</td>\n    </tr>\n    <tr>\n      <th>2021-05-27</th>\n      <td>249.3100</td>\n      <td>-0.0087</td>\n    </tr>\n    <tr>\n      <th>2021-05-28</th>\n      <td>249.6800</td>\n      <td>0.0015</td>\n    </tr>\n  </tbody>\n</table>\n<p>1677 rows × 2 columns</p>\n</div>"
     },
     "execution_count": 2,
     "metadata": {},
     "output_type": "execute_result"
    }
   ],
   "source": [
    "msft = pd.read_csv('msft.csv', index_col='Date', parse_dates=['Date'])\n",
    "msft"
   ],
   "metadata": {
    "collapsed": false,
    "ExecuteTime": {
     "end_time": "2023-12-15T00:26:46.043319830Z",
     "start_time": "2023-12-15T00:26:45.904953744Z"
    }
   },
   "id": "8553baaea8545fe4"
  },
  {
   "cell_type": "markdown",
   "source": [
    "Investment Multiple: Ending Value of 1 [Dollar] invested.\n",
    "Multiple = Ending Value / Initial Investment"
   ],
   "metadata": {
    "collapsed": false
   },
   "id": "5e97df49d8a76501"
  },
  {
   "cell_type": "code",
   "execution_count": 3,
   "outputs": [
    {
     "name": "stderr",
     "output_type": "stream",
     "text": [
      "/tmp/ipykernel_67704/89669947.py:1: FutureWarning: Series.__getitem__ treating keys as positions is deprecated. In a future version, integer keys will always be treated as labels (consistent with DataFrame behavior). To access a value by position, use `ser.iloc[pos]`\n",
      "  multiple = (msft.Price[-1] / msft.Price[0])\n"
     ]
    },
    {
     "data": {
      "text/plain": "5.43965107571966"
     },
     "execution_count": 3,
     "metadata": {},
     "output_type": "execute_result"
    }
   ],
   "source": [
    "multiple = (msft.Price[-1] / msft.Price[0])\n",
    "multiple"
   ],
   "metadata": {
    "collapsed": false,
    "ExecuteTime": {
     "end_time": "2023-12-15T00:26:46.132443577Z",
     "start_time": "2023-12-15T00:26:45.917809782Z"
    }
   },
   "id": "fe71a7c53fe30789"
  },
  {
   "cell_type": "code",
   "execution_count": 4,
   "outputs": [
    {
     "data": {
      "text/plain": "443.96510757196603"
     },
     "execution_count": 4,
     "metadata": {},
     "output_type": "execute_result"
    }
   ],
   "source": [
    "(multiple - 1) * 100"
   ],
   "metadata": {
    "collapsed": false,
    "ExecuteTime": {
     "end_time": "2023-12-15T00:26:46.133450673Z",
     "start_time": "2023-12-15T00:26:45.962814211Z"
    }
   },
   "id": "4eee1a7abc77600f"
  },
  {
   "cell_type": "code",
   "execution_count": 5,
   "outputs": [
    {
     "name": "stderr",
     "output_type": "stream",
     "text": [
      "/tmp/ipykernel_67704/3543245091.py:1: FutureWarning: Series.__getitem__ treating keys as positions is deprecated. In a future version, integer keys will always be treated as labels (consistent with DataFrame behavior). To access a value by position, use `ser.iloc[pos]`\n",
      "  msft.Price / msft.Price[0] # similar / identical concept: Normalized Price with Base Value 1\n"
     ]
    },
    {
     "data": {
      "text/plain": "Date\n2014-10-01   1.0000\n2014-10-02   0.9969\n2014-10-03   1.0041\n2014-10-06   1.0041\n2014-10-07   0.9919\n              ...  \n2021-05-24   5.4636\n2021-05-25   5.4841\n2021-05-26   5.4791\n2021-05-27   5.4316\n2021-05-28   5.4397\nName: Price, Length: 1677, dtype: float64"
     },
     "execution_count": 5,
     "metadata": {},
     "output_type": "execute_result"
    }
   ],
   "source": [
    "msft.Price / msft.Price[0] # similar / identical concept: Normalized Price with Base Value 1"
   ],
   "metadata": {
    "collapsed": false,
    "ExecuteTime": {
     "end_time": "2023-12-15T00:26:46.134689448Z",
     "start_time": "2023-12-15T00:26:45.963516167Z"
    }
   },
   "id": "97285e2ee634872"
  },
  {
   "cell_type": "markdown",
   "source": [
    "Drawback of Investment Multiple: Doesn't take into account investment Period. Meaningful only in conjunction with Investment Period.\n",
    "\n",
    "\n",
    "Compound Annual Growth Rate (CAGR): The (constant annual) rate of return that would be required for an investment to grow from its initial to its ending value, assuming the profits were reinvested at the end of each year of the investment's lifespan. "
   ],
   "metadata": {
    "collapsed": false
   },
   "id": "e16e5ad046b7a2c3"
  },
  {
   "cell_type": "code",
   "execution_count": 6,
   "outputs": [
    {
     "data": {
      "text/plain": "Timestamp('2014-10-01 00:00:00')"
     },
     "execution_count": 6,
     "metadata": {},
     "output_type": "execute_result"
    }
   ],
   "source": [
    "start = msft.index[0]\n",
    "start"
   ],
   "metadata": {
    "collapsed": false,
    "ExecuteTime": {
     "end_time": "2023-12-15T00:26:46.135660766Z",
     "start_time": "2023-12-15T00:26:45.963938616Z"
    }
   },
   "id": "9cf8b7640eedf963"
  },
  {
   "cell_type": "code",
   "execution_count": 7,
   "outputs": [
    {
     "data": {
      "text/plain": "Timestamp('2021-05-28 00:00:00')"
     },
     "execution_count": 7,
     "metadata": {},
     "output_type": "execute_result"
    }
   ],
   "source": [
    "end = msft.index[-1]\n",
    "end"
   ],
   "metadata": {
    "collapsed": false,
    "ExecuteTime": {
     "end_time": "2023-12-15T00:26:46.174962976Z",
     "start_time": "2023-12-15T00:26:46.005215831Z"
    }
   },
   "id": "461c766e21f34707"
  },
  {
   "cell_type": "code",
   "execution_count": 8,
   "outputs": [
    {
     "data": {
      "text/plain": "Timedelta('2431 days 00:00:00')"
     },
     "execution_count": 8,
     "metadata": {},
     "output_type": "execute_result"
    }
   ],
   "source": [
    "td = end - start\n",
    "td"
   ],
   "metadata": {
    "collapsed": false,
    "ExecuteTime": {
     "end_time": "2023-12-15T00:26:46.176150372Z",
     "start_time": "2023-12-15T00:26:46.005661529Z"
    }
   },
   "id": "d5f801879d1ce70"
  },
  {
   "cell_type": "code",
   "execution_count": 9,
   "outputs": [
    {
     "data": {
      "text/plain": "6.655715263518139"
     },
     "execution_count": 9,
     "metadata": {},
     "output_type": "execute_result"
    }
   ],
   "source": [
    "td_years = td.days / 365.25\n",
    "td_years"
   ],
   "metadata": {
    "collapsed": false,
    "ExecuteTime": {
     "end_time": "2023-12-15T00:26:46.178816544Z",
     "start_time": "2023-12-15T00:26:46.012409077Z"
    }
   },
   "id": "869fa15e183094c5"
  },
  {
   "cell_type": "code",
   "execution_count": 10,
   "outputs": [
    {
     "data": {
      "text/plain": "0.2897846506194157"
     },
     "execution_count": 10,
     "metadata": {},
     "output_type": "execute_result"
    }
   ],
   "source": [
    "cagr = (multiple ** (1 / td_years)) - 1 # short version\n",
    "cagr"
   ],
   "metadata": {
    "collapsed": false,
    "ExecuteTime": {
     "end_time": "2023-12-15T00:26:46.179886747Z",
     "start_time": "2023-12-15T00:26:46.054785768Z"
    }
   },
   "id": "c7fefbde10149747"
  },
  {
   "cell_type": "code",
   "execution_count": 11,
   "outputs": [
    {
     "name": "stderr",
     "output_type": "stream",
     "text": [
      "/tmp/ipykernel_67704/2407924070.py:1: FutureWarning: Series.__getitem__ treating keys as positions is deprecated. In a future version, integer keys will always be treated as labels (consistent with DataFrame behavior). To access a value by position, use `ser.iloc[pos]`\n",
      "  cagr = (msft.Price[-1] / msft.Price[0]) ** (1/((msft.index[-1] - msft.index[0]).days / 365.25)) - 1 # long version\n"
     ]
    },
    {
     "data": {
      "text/plain": "0.2897846506194157"
     },
     "execution_count": 11,
     "metadata": {},
     "output_type": "execute_result"
    }
   ],
   "source": [
    "cagr = (msft.Price[-1] / msft.Price[0]) ** (1/((msft.index[-1] - msft.index[0]).days / 365.25)) - 1 # long version\n",
    "cagr"
   ],
   "metadata": {
    "collapsed": false,
    "ExecuteTime": {
     "end_time": "2023-12-15T00:26:46.228315582Z",
     "start_time": "2023-12-15T00:26:46.055636865Z"
    }
   },
   "id": "c6854757e63c5b90"
  },
  {
   "cell_type": "code",
   "execution_count": 12,
   "outputs": [
    {
     "data": {
      "text/plain": "5.439651075719659"
     },
     "execution_count": 12,
     "metadata": {},
     "output_type": "execute_result"
    }
   ],
   "source": [
    "(1 + cagr) ** (td_years) # alternative way to calculate multiple (cagr)"
   ],
   "metadata": {
    "collapsed": false,
    "ExecuteTime": {
     "end_time": "2023-12-15T00:26:46.230395076Z",
     "start_time": "2023-12-15T00:26:46.097321969Z"
    }
   },
   "id": "752a71017cb46185"
  },
  {
   "cell_type": "markdown",
   "source": [
    "-> CAGR can be used to compare investments with different investment horizons."
   ],
   "metadata": {
    "collapsed": false
   },
   "id": "86c9d6a4a2b143ec"
  },
  {
   "cell_type": "markdown",
   "source": [
    "## Compound Returns & Geometric Mean Return"
   ],
   "metadata": {
    "collapsed": false
   },
   "id": "eb78ba033415dabd"
  },
  {
   "cell_type": "code",
   "execution_count": 13,
   "outputs": [
    {
     "data": {
      "text/plain": "              Price  Returns\nDate                        \n2014-10-01  45.9000      NaN\n2014-10-02  45.7600  -0.0031\n2014-10-03  46.0900   0.0072\n2014-10-06  46.0900   0.0000\n2014-10-07  45.5300  -0.0122\n...             ...      ...\n2021-05-24 250.7800   0.0229\n2021-05-25 251.7200   0.0037\n2021-05-26 251.4900  -0.0009\n2021-05-27 249.3100  -0.0087\n2021-05-28 249.6800   0.0015\n\n[1677 rows x 2 columns]",
      "text/html": "<div>\n<style scoped>\n    .dataframe tbody tr th:only-of-type {\n        vertical-align: middle;\n    }\n\n    .dataframe tbody tr th {\n        vertical-align: top;\n    }\n\n    .dataframe thead th {\n        text-align: right;\n    }\n</style>\n<table border=\"1\" class=\"dataframe\">\n  <thead>\n    <tr style=\"text-align: right;\">\n      <th></th>\n      <th>Price</th>\n      <th>Returns</th>\n    </tr>\n    <tr>\n      <th>Date</th>\n      <th></th>\n      <th></th>\n    </tr>\n  </thead>\n  <tbody>\n    <tr>\n      <th>2014-10-01</th>\n      <td>45.9000</td>\n      <td>NaN</td>\n    </tr>\n    <tr>\n      <th>2014-10-02</th>\n      <td>45.7600</td>\n      <td>-0.0031</td>\n    </tr>\n    <tr>\n      <th>2014-10-03</th>\n      <td>46.0900</td>\n      <td>0.0072</td>\n    </tr>\n    <tr>\n      <th>2014-10-06</th>\n      <td>46.0900</td>\n      <td>0.0000</td>\n    </tr>\n    <tr>\n      <th>2014-10-07</th>\n      <td>45.5300</td>\n      <td>-0.0122</td>\n    </tr>\n    <tr>\n      <th>...</th>\n      <td>...</td>\n      <td>...</td>\n    </tr>\n    <tr>\n      <th>2021-05-24</th>\n      <td>250.7800</td>\n      <td>0.0229</td>\n    </tr>\n    <tr>\n      <th>2021-05-25</th>\n      <td>251.7200</td>\n      <td>0.0037</td>\n    </tr>\n    <tr>\n      <th>2021-05-26</th>\n      <td>251.4900</td>\n      <td>-0.0009</td>\n    </tr>\n    <tr>\n      <th>2021-05-27</th>\n      <td>249.3100</td>\n      <td>-0.0087</td>\n    </tr>\n    <tr>\n      <th>2021-05-28</th>\n      <td>249.6800</td>\n      <td>0.0015</td>\n    </tr>\n  </tbody>\n</table>\n<p>1677 rows × 2 columns</p>\n</div>"
     },
     "execution_count": 13,
     "metadata": {},
     "output_type": "execute_result"
    }
   ],
   "source": [
    "msft"
   ],
   "metadata": {
    "collapsed": false,
    "ExecuteTime": {
     "end_time": "2023-12-15T00:26:46.367324641Z",
     "start_time": "2023-12-15T00:26:46.097652828Z"
    }
   },
   "id": "bb31343fa62d9a5e"
  },
  {
   "cell_type": "code",
   "execution_count": 14,
   "outputs": [
    {
     "data": {
      "text/plain": "5.4396510757198575"
     },
     "execution_count": 14,
     "metadata": {},
     "output_type": "execute_result"
    }
   ],
   "source": [
    "multiple = (1 + msft.Returns).prod() # alternative #3 to calculate multiple (compounding daily returns)\n",
    "multiple"
   ],
   "metadata": {
    "collapsed": false,
    "ExecuteTime": {
     "end_time": "2023-12-15T00:26:46.406470733Z",
     "start_time": "2023-12-15T00:26:46.142021073Z"
    }
   },
   "id": "145b097657fab564"
  },
  {
   "cell_type": "code",
   "execution_count": 15,
   "outputs": [
    {
     "data": {
      "text/plain": "1676"
     },
     "execution_count": 15,
     "metadata": {},
     "output_type": "execute_result"
    }
   ],
   "source": [
    "n = msft.Returns.count()\n",
    "n"
   ],
   "metadata": {
    "collapsed": false,
    "ExecuteTime": {
     "end_time": "2023-12-15T00:26:46.636538188Z",
     "start_time": "2023-12-15T00:26:46.142708079Z"
    }
   },
   "id": "1ec1a049bd085030"
  },
  {
   "cell_type": "code",
   "execution_count": 16,
   "outputs": [
    {
     "data": {
      "text/plain": "0.0010110805580043625"
     },
     "execution_count": 16,
     "metadata": {},
     "output_type": "execute_result"
    }
   ],
   "source": [
    "geo_mean = multiple**(1/n) -1 # Geometric Mean Return (daily)\n",
    "geo_mean"
   ],
   "metadata": {
    "collapsed": false,
    "ExecuteTime": {
     "end_time": "2023-12-15T00:26:46.637873946Z",
     "start_time": "2023-12-15T00:26:46.184892104Z"
    }
   },
   "id": "5899873a5907ba85"
  },
  {
   "cell_type": "code",
   "execution_count": 17,
   "outputs": [
    {
     "data": {
      "text/plain": "5.439651075720363"
     },
     "execution_count": 17,
     "metadata": {},
     "output_type": "execute_result"
    }
   ],
   "source": [
    "(1 + geo_mean)**n # alternative #4 to calculate multiple (geometric mean) "
   ],
   "metadata": {
    "collapsed": false,
    "ExecuteTime": {
     "end_time": "2023-12-15T00:27:37.058351985Z",
     "start_time": "2023-12-15T00:27:36.998455616Z"
    }
   },
   "id": "d56bd6448e52fc64"
  },
  {
   "cell_type": "markdown",
   "source": [
    "-> Compound returns, CAGR & geometric mean return are closely related concepts."
   ],
   "metadata": {
    "collapsed": false
   },
   "id": "8176e2f6916a9a68"
  },
  {
   "cell_type": "code",
   "execution_count": 18,
   "outputs": [
    {
     "data": {
      "text/plain": "0.001159781798206695"
     },
     "execution_count": 18,
     "metadata": {},
     "output_type": "execute_result"
    }
   ],
   "source": [
    "mu = msft.Returns.mean() # arithmetic mean return\n",
    "mu"
   ],
   "metadata": {
    "collapsed": false,
    "ExecuteTime": {
     "end_time": "2023-12-15T00:29:10.214913820Z",
     "start_time": "2023-12-15T00:29:10.069127168Z"
    }
   },
   "id": "ab9cd5a8ada032"
  },
  {
   "cell_type": "markdown",
   "source": [
    " The arithmetic mean return is always greater than the geometric mean return... and less useful."
   ],
   "metadata": {
    "collapsed": false
   },
   "id": "4c55b46155ef2504"
  },
  {
   "cell_type": "code",
   "execution_count": 19,
   "outputs": [
    {
     "data": {
      "text/plain": "6.977341539401793"
     },
     "execution_count": 19,
     "metadata": {},
     "output_type": "execute_result"
    }
   ],
   "source": [
    "(1 + mu)**n # calculate multiple? not possible with arithmetic mean!"
   ],
   "metadata": {
    "collapsed": false,
    "ExecuteTime": {
     "end_time": "2023-12-15T00:31:23.360167080Z",
     "start_time": "2023-12-15T00:31:23.296322634Z"
    }
   },
   "id": "51fb5349df0f7cdc"
  },
  {
   "cell_type": "code",
   "execution_count": null,
   "outputs": [],
   "source": [],
   "metadata": {
    "collapsed": false
   },
   "id": "2fb9893b755672c8"
  }
 ],
 "metadata": {
  "kernelspec": {
   "display_name": "Python 3",
   "language": "python",
   "name": "python3"
  },
  "language_info": {
   "codemirror_mode": {
    "name": "ipython",
    "version": 2
   },
   "file_extension": ".py",
   "mimetype": "text/x-python",
   "name": "python",
   "nbconvert_exporter": "python",
   "pygments_lexer": "ipython2",
   "version": "2.7.6"
  }
 },
 "nbformat": 4,
 "nbformat_minor": 5
}
