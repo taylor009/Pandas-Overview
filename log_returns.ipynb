{
 "cells": [
  {
   "cell_type": "code",
   "execution_count": 1,
   "id": "initial_id",
   "metadata": {
    "collapsed": true,
    "ExecuteTime": {
     "end_time": "2023-12-15T00:37:52.405643879Z",
     "start_time": "2023-12-15T00:37:52.399400257Z"
    }
   },
   "outputs": [],
   "source": [
    "import pandas as pd\n",
    "import numpy as np\n",
    "pd.options.display.float_format = '{:.6f}'.format"
   ]
  },
  {
   "cell_type": "code",
   "execution_count": 2,
   "outputs": [
    {
     "data": {
      "text/plain": "                Price   Returns\nDate                           \n2014-10-01  45.900002       NaN\n2014-10-02  45.759998 -0.003050\n2014-10-03  46.090000  0.007212\n2014-10-06  46.090000  0.000000\n2014-10-07  45.529999 -0.012150\n...               ...       ...\n2021-05-24 250.779999  0.022882\n2021-05-25 251.720001  0.003748\n2021-05-26 251.490005 -0.000914\n2021-05-27 249.309998 -0.008668\n2021-05-28 249.679993  0.001484\n\n[1677 rows x 2 columns]",
      "text/html": "<div>\n<style scoped>\n    .dataframe tbody tr th:only-of-type {\n        vertical-align: middle;\n    }\n\n    .dataframe tbody tr th {\n        vertical-align: top;\n    }\n\n    .dataframe thead th {\n        text-align: right;\n    }\n</style>\n<table border=\"1\" class=\"dataframe\">\n  <thead>\n    <tr style=\"text-align: right;\">\n      <th></th>\n      <th>Price</th>\n      <th>Returns</th>\n    </tr>\n    <tr>\n      <th>Date</th>\n      <th></th>\n      <th></th>\n    </tr>\n  </thead>\n  <tbody>\n    <tr>\n      <th>2014-10-01</th>\n      <td>45.900002</td>\n      <td>NaN</td>\n    </tr>\n    <tr>\n      <th>2014-10-02</th>\n      <td>45.759998</td>\n      <td>-0.003050</td>\n    </tr>\n    <tr>\n      <th>2014-10-03</th>\n      <td>46.090000</td>\n      <td>0.007212</td>\n    </tr>\n    <tr>\n      <th>2014-10-06</th>\n      <td>46.090000</td>\n      <td>0.000000</td>\n    </tr>\n    <tr>\n      <th>2014-10-07</th>\n      <td>45.529999</td>\n      <td>-0.012150</td>\n    </tr>\n    <tr>\n      <th>...</th>\n      <td>...</td>\n      <td>...</td>\n    </tr>\n    <tr>\n      <th>2021-05-24</th>\n      <td>250.779999</td>\n      <td>0.022882</td>\n    </tr>\n    <tr>\n      <th>2021-05-25</th>\n      <td>251.720001</td>\n      <td>0.003748</td>\n    </tr>\n    <tr>\n      <th>2021-05-26</th>\n      <td>251.490005</td>\n      <td>-0.000914</td>\n    </tr>\n    <tr>\n      <th>2021-05-27</th>\n      <td>249.309998</td>\n      <td>-0.008668</td>\n    </tr>\n    <tr>\n      <th>2021-05-28</th>\n      <td>249.679993</td>\n      <td>0.001484</td>\n    </tr>\n  </tbody>\n</table>\n<p>1677 rows × 2 columns</p>\n</div>"
     },
     "execution_count": 2,
     "metadata": {},
     "output_type": "execute_result"
    }
   ],
   "source": [
    "msft = pd.read_csv('msft.csv', index_col=0, parse_dates=['Date'])\n",
    "msft"
   ],
   "metadata": {
    "collapsed": false,
    "ExecuteTime": {
     "end_time": "2023-12-15T00:38:39.613619562Z",
     "start_time": "2023-12-15T00:38:39.527453667Z"
    }
   },
   "id": "9325c5e95e2adc21"
  },
  {
   "cell_type": "code",
   "execution_count": 3,
   "outputs": [],
   "source": [
    "msft[\"log_ret\"] = np.log(msft.Price / msft.Price.shift()) # daily log returns"
   ],
   "metadata": {
    "collapsed": false,
    "ExecuteTime": {
     "end_time": "2023-12-15T00:39:34.295332161Z",
     "start_time": "2023-12-15T00:39:34.236637032Z"
    }
   },
   "id": "280d4e8a3f2ffc84"
  },
  {
   "cell_type": "code",
   "execution_count": 4,
   "outputs": [
    {
     "data": {
      "text/plain": "                Price   Returns   log_ret\nDate                                     \n2014-10-01  45.900002       NaN       NaN\n2014-10-02  45.759998 -0.003050 -0.003055\n2014-10-03  46.090000  0.007212  0.007186\n2014-10-06  46.090000  0.000000  0.000000\n2014-10-07  45.529999 -0.012150 -0.012225\n...               ...       ...       ...\n2021-05-24 250.779999  0.022882  0.022624\n2021-05-25 251.720001  0.003748  0.003741\n2021-05-26 251.490005 -0.000914 -0.000914\n2021-05-27 249.309998 -0.008668 -0.008706\n2021-05-28 249.679993  0.001484  0.001483\n\n[1677 rows x 3 columns]",
      "text/html": "<div>\n<style scoped>\n    .dataframe tbody tr th:only-of-type {\n        vertical-align: middle;\n    }\n\n    .dataframe tbody tr th {\n        vertical-align: top;\n    }\n\n    .dataframe thead th {\n        text-align: right;\n    }\n</style>\n<table border=\"1\" class=\"dataframe\">\n  <thead>\n    <tr style=\"text-align: right;\">\n      <th></th>\n      <th>Price</th>\n      <th>Returns</th>\n      <th>log_ret</th>\n    </tr>\n    <tr>\n      <th>Date</th>\n      <th></th>\n      <th></th>\n      <th></th>\n    </tr>\n  </thead>\n  <tbody>\n    <tr>\n      <th>2014-10-01</th>\n      <td>45.900002</td>\n      <td>NaN</td>\n      <td>NaN</td>\n    </tr>\n    <tr>\n      <th>2014-10-02</th>\n      <td>45.759998</td>\n      <td>-0.003050</td>\n      <td>-0.003055</td>\n    </tr>\n    <tr>\n      <th>2014-10-03</th>\n      <td>46.090000</td>\n      <td>0.007212</td>\n      <td>0.007186</td>\n    </tr>\n    <tr>\n      <th>2014-10-06</th>\n      <td>46.090000</td>\n      <td>0.000000</td>\n      <td>0.000000</td>\n    </tr>\n    <tr>\n      <th>2014-10-07</th>\n      <td>45.529999</td>\n      <td>-0.012150</td>\n      <td>-0.012225</td>\n    </tr>\n    <tr>\n      <th>...</th>\n      <td>...</td>\n      <td>...</td>\n      <td>...</td>\n    </tr>\n    <tr>\n      <th>2021-05-24</th>\n      <td>250.779999</td>\n      <td>0.022882</td>\n      <td>0.022624</td>\n    </tr>\n    <tr>\n      <th>2021-05-25</th>\n      <td>251.720001</td>\n      <td>0.003748</td>\n      <td>0.003741</td>\n    </tr>\n    <tr>\n      <th>2021-05-26</th>\n      <td>251.490005</td>\n      <td>-0.000914</td>\n      <td>-0.000914</td>\n    </tr>\n    <tr>\n      <th>2021-05-27</th>\n      <td>249.309998</td>\n      <td>-0.008668</td>\n      <td>-0.008706</td>\n    </tr>\n    <tr>\n      <th>2021-05-28</th>\n      <td>249.679993</td>\n      <td>0.001484</td>\n      <td>0.001483</td>\n    </tr>\n  </tbody>\n</table>\n<p>1677 rows × 3 columns</p>\n</div>"
     },
     "execution_count": 4,
     "metadata": {},
     "output_type": "execute_result"
    }
   ],
   "source": [
    "msft"
   ],
   "metadata": {
    "collapsed": false,
    "ExecuteTime": {
     "end_time": "2023-12-15T00:39:36.971615739Z",
     "start_time": "2023-12-15T00:39:36.946516852Z"
    }
   },
   "id": "635a683fddb83523"
  },
  {
   "cell_type": "code",
   "execution_count": 5,
   "outputs": [
    {
     "data": {
      "text/plain": "            Price     Returns     log_ret\ncount 1677.000000 1676.000000 1676.000000\nmean   106.314377    0.001160    0.001011\nstd     60.772246    0.017256    0.017249\nmin     40.290001   -0.147390   -0.159453\n25%     54.830002   -0.006177   -0.006196\n50%     89.709999    0.000918    0.000918\n75%    138.899994    0.009110    0.009069\nmax    261.970001    0.142169    0.132929",
      "text/html": "<div>\n<style scoped>\n    .dataframe tbody tr th:only-of-type {\n        vertical-align: middle;\n    }\n\n    .dataframe tbody tr th {\n        vertical-align: top;\n    }\n\n    .dataframe thead th {\n        text-align: right;\n    }\n</style>\n<table border=\"1\" class=\"dataframe\">\n  <thead>\n    <tr style=\"text-align: right;\">\n      <th></th>\n      <th>Price</th>\n      <th>Returns</th>\n      <th>log_ret</th>\n    </tr>\n  </thead>\n  <tbody>\n    <tr>\n      <th>count</th>\n      <td>1677.000000</td>\n      <td>1676.000000</td>\n      <td>1676.000000</td>\n    </tr>\n    <tr>\n      <th>mean</th>\n      <td>106.314377</td>\n      <td>0.001160</td>\n      <td>0.001011</td>\n    </tr>\n    <tr>\n      <th>std</th>\n      <td>60.772246</td>\n      <td>0.017256</td>\n      <td>0.017249</td>\n    </tr>\n    <tr>\n      <th>min</th>\n      <td>40.290001</td>\n      <td>-0.147390</td>\n      <td>-0.159453</td>\n    </tr>\n    <tr>\n      <th>25%</th>\n      <td>54.830002</td>\n      <td>-0.006177</td>\n      <td>-0.006196</td>\n    </tr>\n    <tr>\n      <th>50%</th>\n      <td>89.709999</td>\n      <td>0.000918</td>\n      <td>0.000918</td>\n    </tr>\n    <tr>\n      <th>75%</th>\n      <td>138.899994</td>\n      <td>0.009110</td>\n      <td>0.009069</td>\n    </tr>\n    <tr>\n      <th>max</th>\n      <td>261.970001</td>\n      <td>0.142169</td>\n      <td>0.132929</td>\n    </tr>\n  </tbody>\n</table>\n</div>"
     },
     "execution_count": 5,
     "metadata": {},
     "output_type": "execute_result"
    }
   ],
   "source": [
    "msft.describe()"
   ],
   "metadata": {
    "collapsed": false,
    "ExecuteTime": {
     "end_time": "2023-12-15T00:39:47.443401534Z",
     "start_time": "2023-12-15T00:39:47.403147669Z"
    }
   },
   "id": "82242e3a2c34e84e"
  },
  {
   "cell_type": "code",
   "execution_count": 7,
   "outputs": [
    {
     "data": {
      "text/plain": "0.001010569760332965"
     },
     "execution_count": 7,
     "metadata": {},
     "output_type": "execute_result"
    }
   ],
   "source": [
    "mu = msft.log_ret.mean() # mean Log return -> Reward \n",
    "mu"
   ],
   "metadata": {
    "collapsed": false,
    "ExecuteTime": {
     "end_time": "2023-12-15T00:40:18.434549527Z",
     "start_time": "2023-12-15T00:40:18.419800130Z"
    }
   },
   "id": "168264b87740add3"
  },
  {
   "cell_type": "code",
   "execution_count": 9,
   "outputs": [
    {
     "data": {
      "text/plain": "0.01724882682847897"
     },
     "execution_count": 9,
     "metadata": {},
     "output_type": "execute_result"
    }
   ],
   "source": [
    "sigma = msft.log_ret.std() # standard deviation of log returns -> Risk/Volatility \n",
    "sigma"
   ],
   "metadata": {
    "collapsed": false,
    "ExecuteTime": {
     "end_time": "2023-12-15T00:42:05.542620553Z",
     "start_time": "2023-12-15T00:42:05.495550222Z"
    }
   },
   "id": "86d8925fa26fdb00"
  },
  {
   "cell_type": "code",
   "execution_count": null,
   "outputs": [],
   "source": [],
   "metadata": {
    "collapsed": false
   },
   "id": "c0d42d3c79d87865"
  }
 ],
 "metadata": {
  "kernelspec": {
   "display_name": "Python 3",
   "language": "python",
   "name": "python3"
  },
  "language_info": {
   "codemirror_mode": {
    "name": "ipython",
    "version": 2
   },
   "file_extension": ".py",
   "mimetype": "text/x-python",
   "name": "python",
   "nbconvert_exporter": "python",
   "pygments_lexer": "ipython2",
   "version": "2.7.6"
  }
 },
 "nbformat": 4,
 "nbformat_minor": 5
}
