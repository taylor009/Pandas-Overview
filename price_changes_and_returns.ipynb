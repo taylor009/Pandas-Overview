{
 "cells": [
  {
   "cell_type": "markdown",
   "source": [
    "# Price Changes and Financial Returns\n",
    "### More meaningful/useful than Prices: Prices changes"
   ],
   "metadata": {
    "collapsed": false
   },
   "id": "9dd3bc394036fb74"
  },
  {
   "cell_type": "code",
   "execution_count": 2,
   "outputs": [],
   "source": [
    "import pandas as pd\n",
    "import matplotlib.pyplot as plt\n",
    "import seaborn as sns\n",
    "pd.options.display.float_format = '{:.4f}'.format\n",
    "sns.set_style('whitegrid')"
   ],
   "metadata": {
    "collapsed": false,
    "ExecuteTime": {
     "end_time": "2023-12-14T05:43:35.213657809Z",
     "start_time": "2023-12-14T05:43:35.150408811Z"
    }
   },
   "id": "e0107de92f4ef9bd"
  },
  {
   "cell_type": "code",
   "execution_count": 3,
   "outputs": [
    {
     "data": {
      "text/plain": "                 BA    BTC-USD  EURUSD=X      GC=F     MSFT       ^DJI\nDate                                                                  \n2014-10-01 124.6700   383.6150    1.2628 1214.6000  45.9000 16804.7109\n2014-10-02 124.1700   375.0720    1.2624 1214.2000  45.7600 16801.0508\n2014-10-03 126.3600   359.5120    1.2671 1192.2000  46.0900 17009.6895\n2014-10-04      NaN   328.8660       NaN       NaN      NaN        NaN\n2014-10-05      NaN   320.5100       NaN       NaN      NaN        NaN\n...             ...        ...       ...       ...      ...        ...\n2021-05-26 241.3700 39294.1992    1.2249 1901.3000 251.4900 34323.0508\n2021-05-27 250.7000 38436.9688    1.2193 1895.7000 249.3100 34464.6406\n2021-05-28 247.0200 35697.6055    1.2193 1902.5000 249.6800 34529.4492\n2021-05-29      NaN 34616.0664       NaN       NaN      NaN        NaN\n2021-05-30      NaN 35678.1289       NaN       NaN      NaN        NaN\n\n[2434 rows x 6 columns]",
      "text/html": "<div>\n<style scoped>\n    .dataframe tbody tr th:only-of-type {\n        vertical-align: middle;\n    }\n\n    .dataframe tbody tr th {\n        vertical-align: top;\n    }\n\n    .dataframe thead th {\n        text-align: right;\n    }\n</style>\n<table border=\"1\" class=\"dataframe\">\n  <thead>\n    <tr style=\"text-align: right;\">\n      <th></th>\n      <th>BA</th>\n      <th>BTC-USD</th>\n      <th>EURUSD=X</th>\n      <th>GC=F</th>\n      <th>MSFT</th>\n      <th>^DJI</th>\n    </tr>\n    <tr>\n      <th>Date</th>\n      <th></th>\n      <th></th>\n      <th></th>\n      <th></th>\n      <th></th>\n      <th></th>\n    </tr>\n  </thead>\n  <tbody>\n    <tr>\n      <th>2014-10-01</th>\n      <td>124.6700</td>\n      <td>383.6150</td>\n      <td>1.2628</td>\n      <td>1214.6000</td>\n      <td>45.9000</td>\n      <td>16804.7109</td>\n    </tr>\n    <tr>\n      <th>2014-10-02</th>\n      <td>124.1700</td>\n      <td>375.0720</td>\n      <td>1.2624</td>\n      <td>1214.2000</td>\n      <td>45.7600</td>\n      <td>16801.0508</td>\n    </tr>\n    <tr>\n      <th>2014-10-03</th>\n      <td>126.3600</td>\n      <td>359.5120</td>\n      <td>1.2671</td>\n      <td>1192.2000</td>\n      <td>46.0900</td>\n      <td>17009.6895</td>\n    </tr>\n    <tr>\n      <th>2014-10-04</th>\n      <td>NaN</td>\n      <td>328.8660</td>\n      <td>NaN</td>\n      <td>NaN</td>\n      <td>NaN</td>\n      <td>NaN</td>\n    </tr>\n    <tr>\n      <th>2014-10-05</th>\n      <td>NaN</td>\n      <td>320.5100</td>\n      <td>NaN</td>\n      <td>NaN</td>\n      <td>NaN</td>\n      <td>NaN</td>\n    </tr>\n    <tr>\n      <th>...</th>\n      <td>...</td>\n      <td>...</td>\n      <td>...</td>\n      <td>...</td>\n      <td>...</td>\n      <td>...</td>\n    </tr>\n    <tr>\n      <th>2021-05-26</th>\n      <td>241.3700</td>\n      <td>39294.1992</td>\n      <td>1.2249</td>\n      <td>1901.3000</td>\n      <td>251.4900</td>\n      <td>34323.0508</td>\n    </tr>\n    <tr>\n      <th>2021-05-27</th>\n      <td>250.7000</td>\n      <td>38436.9688</td>\n      <td>1.2193</td>\n      <td>1895.7000</td>\n      <td>249.3100</td>\n      <td>34464.6406</td>\n    </tr>\n    <tr>\n      <th>2021-05-28</th>\n      <td>247.0200</td>\n      <td>35697.6055</td>\n      <td>1.2193</td>\n      <td>1902.5000</td>\n      <td>249.6800</td>\n      <td>34529.4492</td>\n    </tr>\n    <tr>\n      <th>2021-05-29</th>\n      <td>NaN</td>\n      <td>34616.0664</td>\n      <td>NaN</td>\n      <td>NaN</td>\n      <td>NaN</td>\n      <td>NaN</td>\n    </tr>\n    <tr>\n      <th>2021-05-30</th>\n      <td>NaN</td>\n      <td>35678.1289</td>\n      <td>NaN</td>\n      <td>NaN</td>\n      <td>NaN</td>\n      <td>NaN</td>\n    </tr>\n  </tbody>\n</table>\n<p>2434 rows × 6 columns</p>\n</div>"
     },
     "execution_count": 3,
     "metadata": {},
     "output_type": "execute_result"
    }
   ],
   "source": [
    "close = pd.read_csv(\"close.csv\", index_col = \"Date\", parse_dates = [\"Date\"])\n",
    "close"
   ],
   "metadata": {
    "collapsed": false,
    "ExecuteTime": {
     "end_time": "2023-12-14T05:44:31.451597308Z",
     "start_time": "2023-12-14T05:44:31.384856232Z"
    }
   },
   "id": "4cb46400b9200b3d"
  },
  {
   "cell_type": "code",
   "execution_count": 4,
   "outputs": [],
   "source": [
    "msft = close.MSFT.dropna().to_frame().copy()"
   ],
   "metadata": {
    "collapsed": false,
    "ExecuteTime": {
     "end_time": "2023-12-14T05:45:09.907852183Z",
     "start_time": "2023-12-14T05:45:09.851913032Z"
    }
   },
   "id": "b14e44488d8e1919"
  },
  {
   "cell_type": "code",
   "execution_count": 5,
   "outputs": [
    {
     "data": {
      "text/plain": "               MSFT\nDate               \n2014-10-01  45.9000\n2014-10-02  45.7600\n2014-10-03  46.0900\n2014-10-06  46.0900\n2014-10-07  45.5300\n...             ...\n2021-05-24 250.7800\n2021-05-25 251.7200\n2021-05-26 251.4900\n2021-05-27 249.3100\n2021-05-28 249.6800\n\n[1677 rows x 1 columns]",
      "text/html": "<div>\n<style scoped>\n    .dataframe tbody tr th:only-of-type {\n        vertical-align: middle;\n    }\n\n    .dataframe tbody tr th {\n        vertical-align: top;\n    }\n\n    .dataframe thead th {\n        text-align: right;\n    }\n</style>\n<table border=\"1\" class=\"dataframe\">\n  <thead>\n    <tr style=\"text-align: right;\">\n      <th></th>\n      <th>MSFT</th>\n    </tr>\n    <tr>\n      <th>Date</th>\n      <th></th>\n    </tr>\n  </thead>\n  <tbody>\n    <tr>\n      <th>2014-10-01</th>\n      <td>45.9000</td>\n    </tr>\n    <tr>\n      <th>2014-10-02</th>\n      <td>45.7600</td>\n    </tr>\n    <tr>\n      <th>2014-10-03</th>\n      <td>46.0900</td>\n    </tr>\n    <tr>\n      <th>2014-10-06</th>\n      <td>46.0900</td>\n    </tr>\n    <tr>\n      <th>2014-10-07</th>\n      <td>45.5300</td>\n    </tr>\n    <tr>\n      <th>...</th>\n      <td>...</td>\n    </tr>\n    <tr>\n      <th>2021-05-24</th>\n      <td>250.7800</td>\n    </tr>\n    <tr>\n      <th>2021-05-25</th>\n      <td>251.7200</td>\n    </tr>\n    <tr>\n      <th>2021-05-26</th>\n      <td>251.4900</td>\n    </tr>\n    <tr>\n      <th>2021-05-27</th>\n      <td>249.3100</td>\n    </tr>\n    <tr>\n      <th>2021-05-28</th>\n      <td>249.6800</td>\n    </tr>\n  </tbody>\n</table>\n<p>1677 rows × 1 columns</p>\n</div>"
     },
     "execution_count": 5,
     "metadata": {},
     "output_type": "execute_result"
    }
   ],
   "source": [
    "msft"
   ],
   "metadata": {
    "collapsed": false,
    "ExecuteTime": {
     "end_time": "2023-12-14T05:45:17.897684283Z",
     "start_time": "2023-12-14T05:45:17.850967944Z"
    }
   },
   "id": "6d9e74fa7d49eea4"
  },
  {
   "cell_type": "code",
   "execution_count": 6,
   "outputs": [],
   "source": [
    "msft.rename(columns = {\"MSFT\": \"Price\"}, inplace = True)"
   ],
   "metadata": {
    "collapsed": false,
    "ExecuteTime": {
     "end_time": "2023-12-14T05:45:34.747996999Z",
     "start_time": "2023-12-14T05:45:34.699807921Z"
    }
   },
   "id": "41c7a8084946ef1d"
  },
  {
   "cell_type": "code",
   "execution_count": 7,
   "outputs": [
    {
     "data": {
      "text/plain": "              Price\nDate               \n2014-10-01  45.9000\n2014-10-02  45.7600\n2014-10-03  46.0900\n2014-10-06  46.0900\n2014-10-07  45.5300\n...             ...\n2021-05-24 250.7800\n2021-05-25 251.7200\n2021-05-26 251.4900\n2021-05-27 249.3100\n2021-05-28 249.6800\n\n[1677 rows x 1 columns]",
      "text/html": "<div>\n<style scoped>\n    .dataframe tbody tr th:only-of-type {\n        vertical-align: middle;\n    }\n\n    .dataframe tbody tr th {\n        vertical-align: top;\n    }\n\n    .dataframe thead th {\n        text-align: right;\n    }\n</style>\n<table border=\"1\" class=\"dataframe\">\n  <thead>\n    <tr style=\"text-align: right;\">\n      <th></th>\n      <th>Price</th>\n    </tr>\n    <tr>\n      <th>Date</th>\n      <th></th>\n    </tr>\n  </thead>\n  <tbody>\n    <tr>\n      <th>2014-10-01</th>\n      <td>45.9000</td>\n    </tr>\n    <tr>\n      <th>2014-10-02</th>\n      <td>45.7600</td>\n    </tr>\n    <tr>\n      <th>2014-10-03</th>\n      <td>46.0900</td>\n    </tr>\n    <tr>\n      <th>2014-10-06</th>\n      <td>46.0900</td>\n    </tr>\n    <tr>\n      <th>2014-10-07</th>\n      <td>45.5300</td>\n    </tr>\n    <tr>\n      <th>...</th>\n      <td>...</td>\n    </tr>\n    <tr>\n      <th>2021-05-24</th>\n      <td>250.7800</td>\n    </tr>\n    <tr>\n      <th>2021-05-25</th>\n      <td>251.7200</td>\n    </tr>\n    <tr>\n      <th>2021-05-26</th>\n      <td>251.4900</td>\n    </tr>\n    <tr>\n      <th>2021-05-27</th>\n      <td>249.3100</td>\n    </tr>\n    <tr>\n      <th>2021-05-28</th>\n      <td>249.6800</td>\n    </tr>\n  </tbody>\n</table>\n<p>1677 rows × 1 columns</p>\n</div>"
     },
     "execution_count": 7,
     "metadata": {},
     "output_type": "execute_result"
    }
   ],
   "source": [
    "msft"
   ],
   "metadata": {
    "collapsed": false,
    "ExecuteTime": {
     "end_time": "2023-12-14T05:45:39.524830485Z",
     "start_time": "2023-12-14T05:45:39.488451973Z"
    }
   },
   "id": "eb36ae90f6f7c9a8"
  },
  {
   "cell_type": "code",
   "execution_count": 8,
   "outputs": [
    {
     "data": {
      "text/plain": "              Price\nDate               \n2014-10-01      NaN\n2014-10-02  45.9000\n2014-10-03  45.7600\n2014-10-06  46.0900\n2014-10-07  46.0900\n...             ...\n2021-05-24 245.1700\n2021-05-25 250.7800\n2021-05-26 251.7200\n2021-05-27 251.4900\n2021-05-28 249.3100\n\n[1677 rows x 1 columns]",
      "text/html": "<div>\n<style scoped>\n    .dataframe tbody tr th:only-of-type {\n        vertical-align: middle;\n    }\n\n    .dataframe tbody tr th {\n        vertical-align: top;\n    }\n\n    .dataframe thead th {\n        text-align: right;\n    }\n</style>\n<table border=\"1\" class=\"dataframe\">\n  <thead>\n    <tr style=\"text-align: right;\">\n      <th></th>\n      <th>Price</th>\n    </tr>\n    <tr>\n      <th>Date</th>\n      <th></th>\n    </tr>\n  </thead>\n  <tbody>\n    <tr>\n      <th>2014-10-01</th>\n      <td>NaN</td>\n    </tr>\n    <tr>\n      <th>2014-10-02</th>\n      <td>45.9000</td>\n    </tr>\n    <tr>\n      <th>2014-10-03</th>\n      <td>45.7600</td>\n    </tr>\n    <tr>\n      <th>2014-10-06</th>\n      <td>46.0900</td>\n    </tr>\n    <tr>\n      <th>2014-10-07</th>\n      <td>46.0900</td>\n    </tr>\n    <tr>\n      <th>...</th>\n      <td>...</td>\n    </tr>\n    <tr>\n      <th>2021-05-24</th>\n      <td>245.1700</td>\n    </tr>\n    <tr>\n      <th>2021-05-25</th>\n      <td>250.7800</td>\n    </tr>\n    <tr>\n      <th>2021-05-26</th>\n      <td>251.7200</td>\n    </tr>\n    <tr>\n      <th>2021-05-27</th>\n      <td>251.4900</td>\n    </tr>\n    <tr>\n      <th>2021-05-28</th>\n      <td>249.3100</td>\n    </tr>\n  </tbody>\n</table>\n<p>1677 rows × 1 columns</p>\n</div>"
     },
     "execution_count": 8,
     "metadata": {},
     "output_type": "execute_result"
    }
   ],
   "source": [
    "msft.shift(periods = 1)"
   ],
   "metadata": {
    "collapsed": false,
    "ExecuteTime": {
     "end_time": "2023-12-14T05:46:26.720738918Z",
     "start_time": "2023-12-14T05:46:26.674842210Z"
    }
   },
   "id": "19e38ae1cc776cc6"
  },
  {
   "cell_type": "code",
   "execution_count": 9,
   "outputs": [
    {
     "data": {
      "text/plain": "              Price   P_lag1\nDate                        \n2014-10-01  45.9000      NaN\n2014-10-02  45.7600  45.9000\n2014-10-03  46.0900  45.7600\n2014-10-06  46.0900  46.0900\n2014-10-07  45.5300  46.0900\n...             ...      ...\n2021-05-24 250.7800 245.1700\n2021-05-25 251.7200 250.7800\n2021-05-26 251.4900 251.7200\n2021-05-27 249.3100 251.4900\n2021-05-28 249.6800 249.3100\n\n[1677 rows x 2 columns]",
      "text/html": "<div>\n<style scoped>\n    .dataframe tbody tr th:only-of-type {\n        vertical-align: middle;\n    }\n\n    .dataframe tbody tr th {\n        vertical-align: top;\n    }\n\n    .dataframe thead th {\n        text-align: right;\n    }\n</style>\n<table border=\"1\" class=\"dataframe\">\n  <thead>\n    <tr style=\"text-align: right;\">\n      <th></th>\n      <th>Price</th>\n      <th>P_lag1</th>\n    </tr>\n    <tr>\n      <th>Date</th>\n      <th></th>\n      <th></th>\n    </tr>\n  </thead>\n  <tbody>\n    <tr>\n      <th>2014-10-01</th>\n      <td>45.9000</td>\n      <td>NaN</td>\n    </tr>\n    <tr>\n      <th>2014-10-02</th>\n      <td>45.7600</td>\n      <td>45.9000</td>\n    </tr>\n    <tr>\n      <th>2014-10-03</th>\n      <td>46.0900</td>\n      <td>45.7600</td>\n    </tr>\n    <tr>\n      <th>2014-10-06</th>\n      <td>46.0900</td>\n      <td>46.0900</td>\n    </tr>\n    <tr>\n      <th>2014-10-07</th>\n      <td>45.5300</td>\n      <td>46.0900</td>\n    </tr>\n    <tr>\n      <th>...</th>\n      <td>...</td>\n      <td>...</td>\n    </tr>\n    <tr>\n      <th>2021-05-24</th>\n      <td>250.7800</td>\n      <td>245.1700</td>\n    </tr>\n    <tr>\n      <th>2021-05-25</th>\n      <td>251.7200</td>\n      <td>250.7800</td>\n    </tr>\n    <tr>\n      <th>2021-05-26</th>\n      <td>251.4900</td>\n      <td>251.7200</td>\n    </tr>\n    <tr>\n      <th>2021-05-27</th>\n      <td>249.3100</td>\n      <td>251.4900</td>\n    </tr>\n    <tr>\n      <th>2021-05-28</th>\n      <td>249.6800</td>\n      <td>249.3100</td>\n    </tr>\n  </tbody>\n</table>\n<p>1677 rows × 2 columns</p>\n</div>"
     },
     "execution_count": 9,
     "metadata": {},
     "output_type": "execute_result"
    }
   ],
   "source": [
    "msft[\"P_lag1\"] = msft.Price.shift(periods = 1)\n",
    "msft"
   ],
   "metadata": {
    "collapsed": false,
    "ExecuteTime": {
     "end_time": "2023-12-14T05:47:17.679531462Z",
     "start_time": "2023-12-14T05:47:17.608987312Z"
    }
   },
   "id": "ec8345dd25dd4334"
  },
  {
   "cell_type": "code",
   "execution_count": 10,
   "outputs": [],
   "source": [
    "msft[\"P_diff\"] = msft.Price.sub(msft.P_lag1) # Alternative: msft.Price - msft.P_lag1"
   ],
   "metadata": {
    "collapsed": false,
    "ExecuteTime": {
     "end_time": "2023-12-14T05:48:25.015371227Z",
     "start_time": "2023-12-14T05:48:24.966158308Z"
    }
   },
   "id": "6ecc22833efb89a3"
  },
  {
   "cell_type": "code",
   "execution_count": 11,
   "outputs": [
    {
     "data": {
      "text/plain": "              Price   P_lag1  P_diff\nDate                                \n2014-10-01  45.9000      NaN     NaN\n2014-10-02  45.7600  45.9000 -0.1400\n2014-10-03  46.0900  45.7600  0.3300\n2014-10-06  46.0900  46.0900  0.0000\n2014-10-07  45.5300  46.0900 -0.5600\n...             ...      ...     ...\n2021-05-24 250.7800 245.1700  5.6100\n2021-05-25 251.7200 250.7800  0.9400\n2021-05-26 251.4900 251.7200 -0.2300\n2021-05-27 249.3100 251.4900 -2.1800\n2021-05-28 249.6800 249.3100  0.3700\n\n[1677 rows x 3 columns]",
      "text/html": "<div>\n<style scoped>\n    .dataframe tbody tr th:only-of-type {\n        vertical-align: middle;\n    }\n\n    .dataframe tbody tr th {\n        vertical-align: top;\n    }\n\n    .dataframe thead th {\n        text-align: right;\n    }\n</style>\n<table border=\"1\" class=\"dataframe\">\n  <thead>\n    <tr style=\"text-align: right;\">\n      <th></th>\n      <th>Price</th>\n      <th>P_lag1</th>\n      <th>P_diff</th>\n    </tr>\n    <tr>\n      <th>Date</th>\n      <th></th>\n      <th></th>\n      <th></th>\n    </tr>\n  </thead>\n  <tbody>\n    <tr>\n      <th>2014-10-01</th>\n      <td>45.9000</td>\n      <td>NaN</td>\n      <td>NaN</td>\n    </tr>\n    <tr>\n      <th>2014-10-02</th>\n      <td>45.7600</td>\n      <td>45.9000</td>\n      <td>-0.1400</td>\n    </tr>\n    <tr>\n      <th>2014-10-03</th>\n      <td>46.0900</td>\n      <td>45.7600</td>\n      <td>0.3300</td>\n    </tr>\n    <tr>\n      <th>2014-10-06</th>\n      <td>46.0900</td>\n      <td>46.0900</td>\n      <td>0.0000</td>\n    </tr>\n    <tr>\n      <th>2014-10-07</th>\n      <td>45.5300</td>\n      <td>46.0900</td>\n      <td>-0.5600</td>\n    </tr>\n    <tr>\n      <th>...</th>\n      <td>...</td>\n      <td>...</td>\n      <td>...</td>\n    </tr>\n    <tr>\n      <th>2021-05-24</th>\n      <td>250.7800</td>\n      <td>245.1700</td>\n      <td>5.6100</td>\n    </tr>\n    <tr>\n      <th>2021-05-25</th>\n      <td>251.7200</td>\n      <td>250.7800</td>\n      <td>0.9400</td>\n    </tr>\n    <tr>\n      <th>2021-05-26</th>\n      <td>251.4900</td>\n      <td>251.7200</td>\n      <td>-0.2300</td>\n    </tr>\n    <tr>\n      <th>2021-05-27</th>\n      <td>249.3100</td>\n      <td>251.4900</td>\n      <td>-2.1800</td>\n    </tr>\n    <tr>\n      <th>2021-05-28</th>\n      <td>249.6800</td>\n      <td>249.3100</td>\n      <td>0.3700</td>\n    </tr>\n  </tbody>\n</table>\n<p>1677 rows × 3 columns</p>\n</div>"
     },
     "execution_count": 11,
     "metadata": {},
     "output_type": "execute_result"
    }
   ],
   "source": [
    "msft"
   ],
   "metadata": {
    "collapsed": false,
    "ExecuteTime": {
     "end_time": "2023-12-14T05:48:27.924609258Z",
     "start_time": "2023-12-14T05:48:27.878949824Z"
    }
   },
   "id": "6c3bbd886a2f3833"
  },
  {
   "cell_type": "code",
   "execution_count": 12,
   "outputs": [],
   "source": [
    "msft[\"P_diff2\"] = msft.Price.diff(periods = 1) # Alternative 2"
   ],
   "metadata": {
    "collapsed": false,
    "ExecuteTime": {
     "end_time": "2023-12-14T05:49:29.094128350Z",
     "start_time": "2023-12-14T05:49:29.033582941Z"
    }
   },
   "id": "f233bddd0792e4c0"
  },
  {
   "cell_type": "code",
   "execution_count": 13,
   "outputs": [
    {
     "data": {
      "text/plain": "              Price   P_lag1  P_diff  P_diff2\nDate                                         \n2014-10-01  45.9000      NaN     NaN      NaN\n2014-10-02  45.7600  45.9000 -0.1400  -0.1400\n2014-10-03  46.0900  45.7600  0.3300   0.3300\n2014-10-06  46.0900  46.0900  0.0000   0.0000\n2014-10-07  45.5300  46.0900 -0.5600  -0.5600\n...             ...      ...     ...      ...\n2021-05-24 250.7800 245.1700  5.6100   5.6100\n2021-05-25 251.7200 250.7800  0.9400   0.9400\n2021-05-26 251.4900 251.7200 -0.2300  -0.2300\n2021-05-27 249.3100 251.4900 -2.1800  -2.1800\n2021-05-28 249.6800 249.3100  0.3700   0.3700\n\n[1677 rows x 4 columns]",
      "text/html": "<div>\n<style scoped>\n    .dataframe tbody tr th:only-of-type {\n        vertical-align: middle;\n    }\n\n    .dataframe tbody tr th {\n        vertical-align: top;\n    }\n\n    .dataframe thead th {\n        text-align: right;\n    }\n</style>\n<table border=\"1\" class=\"dataframe\">\n  <thead>\n    <tr style=\"text-align: right;\">\n      <th></th>\n      <th>Price</th>\n      <th>P_lag1</th>\n      <th>P_diff</th>\n      <th>P_diff2</th>\n    </tr>\n    <tr>\n      <th>Date</th>\n      <th></th>\n      <th></th>\n      <th></th>\n      <th></th>\n    </tr>\n  </thead>\n  <tbody>\n    <tr>\n      <th>2014-10-01</th>\n      <td>45.9000</td>\n      <td>NaN</td>\n      <td>NaN</td>\n      <td>NaN</td>\n    </tr>\n    <tr>\n      <th>2014-10-02</th>\n      <td>45.7600</td>\n      <td>45.9000</td>\n      <td>-0.1400</td>\n      <td>-0.1400</td>\n    </tr>\n    <tr>\n      <th>2014-10-03</th>\n      <td>46.0900</td>\n      <td>45.7600</td>\n      <td>0.3300</td>\n      <td>0.3300</td>\n    </tr>\n    <tr>\n      <th>2014-10-06</th>\n      <td>46.0900</td>\n      <td>46.0900</td>\n      <td>0.0000</td>\n      <td>0.0000</td>\n    </tr>\n    <tr>\n      <th>2014-10-07</th>\n      <td>45.5300</td>\n      <td>46.0900</td>\n      <td>-0.5600</td>\n      <td>-0.5600</td>\n    </tr>\n    <tr>\n      <th>...</th>\n      <td>...</td>\n      <td>...</td>\n      <td>...</td>\n      <td>...</td>\n    </tr>\n    <tr>\n      <th>2021-05-24</th>\n      <td>250.7800</td>\n      <td>245.1700</td>\n      <td>5.6100</td>\n      <td>5.6100</td>\n    </tr>\n    <tr>\n      <th>2021-05-25</th>\n      <td>251.7200</td>\n      <td>250.7800</td>\n      <td>0.9400</td>\n      <td>0.9400</td>\n    </tr>\n    <tr>\n      <th>2021-05-26</th>\n      <td>251.4900</td>\n      <td>251.7200</td>\n      <td>-0.2300</td>\n      <td>-0.2300</td>\n    </tr>\n    <tr>\n      <th>2021-05-27</th>\n      <td>249.3100</td>\n      <td>251.4900</td>\n      <td>-2.1800</td>\n      <td>-2.1800</td>\n    </tr>\n    <tr>\n      <th>2021-05-28</th>\n      <td>249.6800</td>\n      <td>249.3100</td>\n      <td>0.3700</td>\n      <td>0.3700</td>\n    </tr>\n  </tbody>\n</table>\n<p>1677 rows × 4 columns</p>\n</div>"
     },
     "execution_count": 13,
     "metadata": {},
     "output_type": "execute_result"
    }
   ],
   "source": [
    "msft"
   ],
   "metadata": {
    "collapsed": false,
    "ExecuteTime": {
     "end_time": "2023-12-14T05:49:30.803207912Z",
     "start_time": "2023-12-14T05:49:30.767190438Z"
    }
   },
   "id": "8dcf35b2ee8a38fc"
  },
  {
   "cell_type": "code",
   "execution_count": 14,
   "outputs": [
    {
     "data": {
      "text/plain": "True"
     },
     "execution_count": 14,
     "metadata": {},
     "output_type": "execute_result"
    }
   ],
   "source": [
    "msft.P_diff.equals(msft.P_diff2)"
   ],
   "metadata": {
    "collapsed": false,
    "ExecuteTime": {
     "end_time": "2023-12-14T05:50:55.801213516Z",
     "start_time": "2023-12-14T05:50:55.751827412Z"
    }
   },
   "id": "ecfd2c0f2cf736b0"
  },
  {
   "cell_type": "markdown",
   "source": [
    "-> Absolute Price Changes are not meaningful"
   ],
   "metadata": {
    "collapsed": false
   },
   "id": "6df42ef108435ab1"
  },
  {
   "cell_type": "markdown",
   "source": [
    "### Relative/Percentage Price Changes (Returns)"
   ],
   "metadata": {
    "collapsed": false
   },
   "id": "dbfb5113d4140496"
  },
  {
   "cell_type": "code",
   "execution_count": 15,
   "outputs": [
    {
     "data": {
      "text/plain": "Date\n2014-10-01       NaN\n2014-10-02   -0.0031\n2014-10-03    0.0072\n2014-10-06    0.0000\n2014-10-07   -0.0122\n               ...  \n2021-05-24    0.0229\n2021-05-25    0.0037\n2021-05-26   -0.0009\n2021-05-27   -0.0087\n2021-05-28    0.0015\nLength: 1677, dtype: float64"
     },
     "execution_count": 15,
     "metadata": {},
     "output_type": "execute_result"
    }
   ],
   "source": [
    "msft.Price.div(msft.P_lag1) - 1 # Alternative: msft.Price / msft.P_lag1 - 1"
   ],
   "metadata": {
    "collapsed": false,
    "ExecuteTime": {
     "end_time": "2023-12-14T05:52:53.086751174Z",
     "start_time": "2023-12-14T05:52:53.033744503Z"
    }
   },
   "id": "f8e26a417a7674f0"
  },
  {
   "cell_type": "code",
   "execution_count": 18,
   "outputs": [
    {
     "data": {
      "text/plain": "              Price   P_lag1  P_diff  P_diff2  Return  Returns|  Returns\nDate                                                                    \n2014-10-01  45.9000      NaN     NaN      NaN     NaN       NaN      NaN\n2014-10-02  45.7600  45.9000 -0.1400  -0.1400 -0.0031   -0.0031  -0.0031\n2014-10-03  46.0900  45.7600  0.3300   0.3300  0.0072    0.0072   0.0072\n2014-10-06  46.0900  46.0900  0.0000   0.0000  0.0000    0.0000   0.0000\n2014-10-07  45.5300  46.0900 -0.5600  -0.5600 -0.0122   -0.0122  -0.0122\n...             ...      ...     ...      ...     ...       ...      ...\n2021-05-24 250.7800 245.1700  5.6100   5.6100  0.0229    0.0229   0.0229\n2021-05-25 251.7200 250.7800  0.9400   0.9400  0.0037    0.0037   0.0037\n2021-05-26 251.4900 251.7200 -0.2300  -0.2300 -0.0009   -0.0009  -0.0009\n2021-05-27 249.3100 251.4900 -2.1800  -2.1800 -0.0087   -0.0087  -0.0087\n2021-05-28 249.6800 249.3100  0.3700   0.3700  0.0015    0.0015   0.0015\n\n[1677 rows x 7 columns]",
      "text/html": "<div>\n<style scoped>\n    .dataframe tbody tr th:only-of-type {\n        vertical-align: middle;\n    }\n\n    .dataframe tbody tr th {\n        vertical-align: top;\n    }\n\n    .dataframe thead th {\n        text-align: right;\n    }\n</style>\n<table border=\"1\" class=\"dataframe\">\n  <thead>\n    <tr style=\"text-align: right;\">\n      <th></th>\n      <th>Price</th>\n      <th>P_lag1</th>\n      <th>P_diff</th>\n      <th>P_diff2</th>\n      <th>Return</th>\n      <th>Returns|</th>\n      <th>Returns</th>\n    </tr>\n    <tr>\n      <th>Date</th>\n      <th></th>\n      <th></th>\n      <th></th>\n      <th></th>\n      <th></th>\n      <th></th>\n      <th></th>\n    </tr>\n  </thead>\n  <tbody>\n    <tr>\n      <th>2014-10-01</th>\n      <td>45.9000</td>\n      <td>NaN</td>\n      <td>NaN</td>\n      <td>NaN</td>\n      <td>NaN</td>\n      <td>NaN</td>\n      <td>NaN</td>\n    </tr>\n    <tr>\n      <th>2014-10-02</th>\n      <td>45.7600</td>\n      <td>45.9000</td>\n      <td>-0.1400</td>\n      <td>-0.1400</td>\n      <td>-0.0031</td>\n      <td>-0.0031</td>\n      <td>-0.0031</td>\n    </tr>\n    <tr>\n      <th>2014-10-03</th>\n      <td>46.0900</td>\n      <td>45.7600</td>\n      <td>0.3300</td>\n      <td>0.3300</td>\n      <td>0.0072</td>\n      <td>0.0072</td>\n      <td>0.0072</td>\n    </tr>\n    <tr>\n      <th>2014-10-06</th>\n      <td>46.0900</td>\n      <td>46.0900</td>\n      <td>0.0000</td>\n      <td>0.0000</td>\n      <td>0.0000</td>\n      <td>0.0000</td>\n      <td>0.0000</td>\n    </tr>\n    <tr>\n      <th>2014-10-07</th>\n      <td>45.5300</td>\n      <td>46.0900</td>\n      <td>-0.5600</td>\n      <td>-0.5600</td>\n      <td>-0.0122</td>\n      <td>-0.0122</td>\n      <td>-0.0122</td>\n    </tr>\n    <tr>\n      <th>...</th>\n      <td>...</td>\n      <td>...</td>\n      <td>...</td>\n      <td>...</td>\n      <td>...</td>\n      <td>...</td>\n      <td>...</td>\n    </tr>\n    <tr>\n      <th>2021-05-24</th>\n      <td>250.7800</td>\n      <td>245.1700</td>\n      <td>5.6100</td>\n      <td>5.6100</td>\n      <td>0.0229</td>\n      <td>0.0229</td>\n      <td>0.0229</td>\n    </tr>\n    <tr>\n      <th>2021-05-25</th>\n      <td>251.7200</td>\n      <td>250.7800</td>\n      <td>0.9400</td>\n      <td>0.9400</td>\n      <td>0.0037</td>\n      <td>0.0037</td>\n      <td>0.0037</td>\n    </tr>\n    <tr>\n      <th>2021-05-26</th>\n      <td>251.4900</td>\n      <td>251.7200</td>\n      <td>-0.2300</td>\n      <td>-0.2300</td>\n      <td>-0.0009</td>\n      <td>-0.0009</td>\n      <td>-0.0009</td>\n    </tr>\n    <tr>\n      <th>2021-05-27</th>\n      <td>249.3100</td>\n      <td>251.4900</td>\n      <td>-2.1800</td>\n      <td>-2.1800</td>\n      <td>-0.0087</td>\n      <td>-0.0087</td>\n      <td>-0.0087</td>\n    </tr>\n    <tr>\n      <th>2021-05-28</th>\n      <td>249.6800</td>\n      <td>249.3100</td>\n      <td>0.3700</td>\n      <td>0.3700</td>\n      <td>0.0015</td>\n      <td>0.0015</td>\n      <td>0.0015</td>\n    </tr>\n  </tbody>\n</table>\n<p>1677 rows × 7 columns</p>\n</div>"
     },
     "execution_count": 18,
     "metadata": {},
     "output_type": "execute_result"
    }
   ],
   "source": [
    "msft[\"Returns\"] = msft.Price.pct_change(periods = 1) # Alternative 2\n",
    "msft"
   ],
   "metadata": {
    "collapsed": false,
    "ExecuteTime": {
     "end_time": "2023-12-14T05:54:04.988465472Z",
     "start_time": "2023-12-14T05:54:04.945235029Z"
    }
   },
   "id": "aa47164134c165c1"
  },
  {
   "cell_type": "code",
   "execution_count": 23,
   "outputs": [],
   "source": [
    "msft.drop(columns = [\"P_lag1\", \"P_diff\", \"P_diff2\"], inplace = True)"
   ],
   "metadata": {
    "collapsed": false,
    "ExecuteTime": {
     "end_time": "2023-12-14T05:55:51.328349710Z",
     "start_time": "2023-12-14T05:55:51.287736254Z"
    }
   },
   "id": "6b8e358afd7fc36a"
  },
  {
   "cell_type": "code",
   "execution_count": 24,
   "outputs": [
    {
     "data": {
      "text/plain": "              Price  Returns\nDate                        \n2014-10-01  45.9000      NaN\n2014-10-02  45.7600  -0.0031\n2014-10-03  46.0900   0.0072\n2014-10-06  46.0900   0.0000\n2014-10-07  45.5300  -0.0122\n...             ...      ...\n2021-05-24 250.7800   0.0229\n2021-05-25 251.7200   0.0037\n2021-05-26 251.4900  -0.0009\n2021-05-27 249.3100  -0.0087\n2021-05-28 249.6800   0.0015\n\n[1677 rows x 2 columns]",
      "text/html": "<div>\n<style scoped>\n    .dataframe tbody tr th:only-of-type {\n        vertical-align: middle;\n    }\n\n    .dataframe tbody tr th {\n        vertical-align: top;\n    }\n\n    .dataframe thead th {\n        text-align: right;\n    }\n</style>\n<table border=\"1\" class=\"dataframe\">\n  <thead>\n    <tr style=\"text-align: right;\">\n      <th></th>\n      <th>Price</th>\n      <th>Returns</th>\n    </tr>\n    <tr>\n      <th>Date</th>\n      <th></th>\n      <th></th>\n    </tr>\n  </thead>\n  <tbody>\n    <tr>\n      <th>2014-10-01</th>\n      <td>45.9000</td>\n      <td>NaN</td>\n    </tr>\n    <tr>\n      <th>2014-10-02</th>\n      <td>45.7600</td>\n      <td>-0.0031</td>\n    </tr>\n    <tr>\n      <th>2014-10-03</th>\n      <td>46.0900</td>\n      <td>0.0072</td>\n    </tr>\n    <tr>\n      <th>2014-10-06</th>\n      <td>46.0900</td>\n      <td>0.0000</td>\n    </tr>\n    <tr>\n      <th>2014-10-07</th>\n      <td>45.5300</td>\n      <td>-0.0122</td>\n    </tr>\n    <tr>\n      <th>...</th>\n      <td>...</td>\n      <td>...</td>\n    </tr>\n    <tr>\n      <th>2021-05-24</th>\n      <td>250.7800</td>\n      <td>0.0229</td>\n    </tr>\n    <tr>\n      <th>2021-05-25</th>\n      <td>251.7200</td>\n      <td>0.0037</td>\n    </tr>\n    <tr>\n      <th>2021-05-26</th>\n      <td>251.4900</td>\n      <td>-0.0009</td>\n    </tr>\n    <tr>\n      <th>2021-05-27</th>\n      <td>249.3100</td>\n      <td>-0.0087</td>\n    </tr>\n    <tr>\n      <th>2021-05-28</th>\n      <td>249.6800</td>\n      <td>0.0015</td>\n    </tr>\n  </tbody>\n</table>\n<p>1677 rows × 2 columns</p>\n</div>"
     },
     "execution_count": 24,
     "metadata": {},
     "output_type": "execute_result"
    }
   ],
   "source": [
    "msft"
   ],
   "metadata": {
    "collapsed": false,
    "ExecuteTime": {
     "end_time": "2023-12-14T05:55:52.456745318Z",
     "start_time": "2023-12-14T05:55:52.440578862Z"
    }
   },
   "id": "28cae6ba77caa367"
  },
  {
   "cell_type": "code",
   "execution_count": 25,
   "outputs": [],
   "source": [
    "msft.to_csv(\"msft.csv\")"
   ],
   "metadata": {
    "collapsed": false,
    "ExecuteTime": {
     "end_time": "2023-12-14T05:56:18.180436218Z",
     "start_time": "2023-12-14T05:56:18.126827542Z"
    }
   },
   "id": "388064435b541ccc"
  },
  {
   "cell_type": "code",
   "execution_count": null,
   "outputs": [],
   "source": [],
   "metadata": {
    "collapsed": false
   },
   "id": "2f3f0320de6c454f"
  }
 ],
 "metadata": {
  "kernelspec": {
   "display_name": "Python 3",
   "language": "python",
   "name": "python3"
  },
  "language_info": {
   "codemirror_mode": {
    "name": "ipython",
    "version": 2
   },
   "file_extension": ".py",
   "mimetype": "text/x-python",
   "name": "python",
   "nbconvert_exporter": "python",
   "pygments_lexer": "ipython2",
   "version": "2.7.6"
  }
 },
 "nbformat": 4,
 "nbformat_minor": 5
}
