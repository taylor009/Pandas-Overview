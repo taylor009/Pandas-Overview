{
 "cells": [
  {
   "cell_type": "code",
   "execution_count": 1,
   "id": "initial_id",
   "metadata": {
    "collapsed": true,
    "ExecuteTime": {
     "end_time": "2023-12-15T01:01:04.149861719Z",
     "start_time": "2023-12-15T01:01:04.148860447Z"
    }
   },
   "outputs": [],
   "source": [
    "import pandas as pd\n",
    "import numpy as np\n",
    "pd.options.display.float_format = '{:.6f}'.format"
   ]
  },
  {
   "cell_type": "code",
   "execution_count": 2,
   "outputs": [
    {
     "data": {
      "text/plain": "                Price   Returns   log_ret\nDate                                     \n2014-10-01  45.900002       NaN       NaN\n2014-10-02  45.759998 -0.003050 -0.003055\n2014-10-03  46.090000  0.007212  0.007186\n2014-10-06  46.090000  0.000000  0.000000\n2014-10-07  45.529999 -0.012150 -0.012225\n...               ...       ...       ...\n2021-05-24 250.779999  0.022882  0.022624\n2021-05-25 251.720001  0.003748  0.003741\n2021-05-26 251.490005 -0.000914 -0.000914\n2021-05-27 249.309998 -0.008668 -0.008706\n2021-05-28 249.679993  0.001484  0.001483\n\n[1677 rows x 3 columns]",
      "text/html": "<div>\n<style scoped>\n    .dataframe tbody tr th:only-of-type {\n        vertical-align: middle;\n    }\n\n    .dataframe tbody tr th {\n        vertical-align: top;\n    }\n\n    .dataframe thead th {\n        text-align: right;\n    }\n</style>\n<table border=\"1\" class=\"dataframe\">\n  <thead>\n    <tr style=\"text-align: right;\">\n      <th></th>\n      <th>Price</th>\n      <th>Returns</th>\n      <th>log_ret</th>\n    </tr>\n    <tr>\n      <th>Date</th>\n      <th></th>\n      <th></th>\n      <th></th>\n    </tr>\n  </thead>\n  <tbody>\n    <tr>\n      <th>2014-10-01</th>\n      <td>45.900002</td>\n      <td>NaN</td>\n      <td>NaN</td>\n    </tr>\n    <tr>\n      <th>2014-10-02</th>\n      <td>45.759998</td>\n      <td>-0.003050</td>\n      <td>-0.003055</td>\n    </tr>\n    <tr>\n      <th>2014-10-03</th>\n      <td>46.090000</td>\n      <td>0.007212</td>\n      <td>0.007186</td>\n    </tr>\n    <tr>\n      <th>2014-10-06</th>\n      <td>46.090000</td>\n      <td>0.000000</td>\n      <td>0.000000</td>\n    </tr>\n    <tr>\n      <th>2014-10-07</th>\n      <td>45.529999</td>\n      <td>-0.012150</td>\n      <td>-0.012225</td>\n    </tr>\n    <tr>\n      <th>...</th>\n      <td>...</td>\n      <td>...</td>\n      <td>...</td>\n    </tr>\n    <tr>\n      <th>2021-05-24</th>\n      <td>250.779999</td>\n      <td>0.022882</td>\n      <td>0.022624</td>\n    </tr>\n    <tr>\n      <th>2021-05-25</th>\n      <td>251.720001</td>\n      <td>0.003748</td>\n      <td>0.003741</td>\n    </tr>\n    <tr>\n      <th>2021-05-26</th>\n      <td>251.490005</td>\n      <td>-0.000914</td>\n      <td>-0.000914</td>\n    </tr>\n    <tr>\n      <th>2021-05-27</th>\n      <td>249.309998</td>\n      <td>-0.008668</td>\n      <td>-0.008706</td>\n    </tr>\n    <tr>\n      <th>2021-05-28</th>\n      <td>249.679993</td>\n      <td>0.001484</td>\n      <td>0.001483</td>\n    </tr>\n  </tbody>\n</table>\n<p>1677 rows × 3 columns</p>\n</div>"
     },
     "execution_count": 2,
     "metadata": {},
     "output_type": "execute_result"
    }
   ],
   "source": [
    "msft = pd.read_csv('msft.csv', index_col=\"Date\", parse_dates=[\"Date\"])\n",
    "msft[\"log_ret\"] = np.log(msft.Price / msft.Price.shift())\n",
    "msft"
   ],
   "metadata": {
    "collapsed": false,
    "ExecuteTime": {
     "end_time": "2023-12-15T01:02:11.911392820Z",
     "start_time": "2023-12-15T01:02:11.876948471Z"
    }
   },
   "id": "b14064120ad57238"
  },
  {
   "cell_type": "markdown",
   "source": [
    "#### Investment Multiple"
   ],
   "metadata": {
    "collapsed": false
   },
   "id": "7959b4904380aeea"
  },
  {
   "cell_type": "code",
   "execution_count": 3,
   "outputs": [
    {
     "data": {
      "text/plain": "5.4396510757198575"
     },
     "execution_count": 3,
     "metadata": {},
     "output_type": "execute_result"
    }
   ],
   "source": [
    "msft.Returns.add(1).prod() # compounding simple returns (\"compound returns\")"
   ],
   "metadata": {
    "collapsed": false,
    "ExecuteTime": {
     "end_time": "2023-12-15T01:03:07.000778473Z",
     "start_time": "2023-12-15T01:03:06.936543914Z"
    }
   },
   "id": "a75c790bb6c00192"
  },
  {
   "cell_type": "code",
   "execution_count": 4,
   "outputs": [
    {
     "data": {
      "text/plain": "5.4396510757196435"
     },
     "execution_count": 4,
     "metadata": {},
     "output_type": "execute_result"
    }
   ],
   "source": [
    "np.exp(msft.log_ret.sum()) # adding log returns (\"cumulative returns\")"
   ],
   "metadata": {
    "collapsed": false,
    "ExecuteTime": {
     "end_time": "2023-12-15T01:03:41.067306290Z",
     "start_time": "2023-12-15T01:03:41.023494041Z"
    }
   },
   "id": "4538ac6f49558d52"
  },
  {
   "cell_type": "markdown",
   "source": [
    "### Normal Price with Base 1"
   ],
   "metadata": {
    "collapsed": false
   },
   "id": "7a276b374e3a71a2"
  },
  {
   "cell_type": "code",
   "execution_count": 6,
   "outputs": [
    {
     "data": {
      "text/plain": "Date\n2014-10-01        NaN\n2014-10-02   0.996950\n2014-10-03   1.004139\n2014-10-06   1.004139\n2014-10-07   0.991939\n               ...   \n2021-05-24   5.463616\n2021-05-25   5.484096\n2021-05-26   5.479085\n2021-05-27   5.431590\n2021-05-28   5.439651\nName: Returns, Length: 1677, dtype: float64"
     },
     "execution_count": 6,
     "metadata": {},
     "output_type": "execute_result"
    }
   ],
   "source": [
    "msft.Returns.add(1).cumprod() # compounding simple returns (\"compound returns\")"
   ],
   "metadata": {
    "collapsed": false,
    "ExecuteTime": {
     "end_time": "2023-12-15T01:26:33.534981953Z",
     "start_time": "2023-12-15T01:26:33.478253098Z"
    }
   },
   "id": "5a9983d77cb201fd"
  },
  {
   "cell_type": "code",
   "execution_count": null,
   "outputs": [],
   "source": [],
   "metadata": {
    "collapsed": false
   },
   "id": "1cfcea4c29e694df"
  }
 ],
 "metadata": {
  "kernelspec": {
   "display_name": "Python 3",
   "language": "python",
   "name": "python3"
  },
  "language_info": {
   "codemirror_mode": {
    "name": "ipython",
    "version": 2
   },
   "file_extension": ".py",
   "mimetype": "text/x-python",
   "name": "python",
   "nbconvert_exporter": "python",
   "pygments_lexer": "ipython2",
   "version": "2.7.6"
  }
 },
 "nbformat": 4,
 "nbformat_minor": 5
}
